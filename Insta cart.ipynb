{
 "cells": [
  {
   "cell_type": "markdown",
   "id": "06a5d792",
   "metadata": {},
   "source": [
    "The dataset for this project is a relational set of files describing customers' orders over time. The goal of this peoject is to predict which products will be in a user's next order. The dataset is anonymized and contains a sample of over 3 million grocery orders from more than 200,000 **Instacart** users. For each user, we are provided between 4 and 100 of their orders, with the sequence of products purchased in each order. We are also provided the week and hour of day the order was placed, and a relative measure of time between orders."
   ]
  },
  {
   "cell_type": "code",
   "execution_count": 5,
   "id": "4bfc536a",
   "metadata": {},
   "outputs": [
    {
     "data": {
      "text/html": [
       "        <script type=\"text/javascript\">\n",
       "        window.PlotlyConfig = {MathJaxConfig: 'local'};\n",
       "        if (window.MathJax) {MathJax.Hub.Config({SVG: {font: \"STIX-Web\"}});}\n",
       "        if (typeof require !== 'undefined') {\n",
       "        require.undef(\"plotly\");\n",
       "        requirejs.config({\n",
       "            paths: {\n",
       "                'plotly': ['https://cdn.plot.ly/plotly-2.4.2.min']\n",
       "            }\n",
       "        });\n",
       "        require(['plotly'], function(Plotly) {\n",
       "            window._Plotly = Plotly;\n",
       "        });\n",
       "        }\n",
       "        </script>\n",
       "        "
      ]
     },
     "metadata": {},
     "output_type": "display_data"
    }
   ],
   "source": [
    "#Importing useful libraries\n",
    "import pandas as pd\n",
    "import numpy as np\n",
    "import datetime\n",
    "import chart_studio.plotly as py\n",
    "import plotly.graph_objs as go \n",
    "from plotly.offline import init_notebook_mode,iplot,plot\n",
    "init_notebook_mode(connected=True) \n",
    "import matplotlib.pyplot as plt\n",
    "import seaborn as sns\n",
    "%matplotlib inline"
   ]
  },
  {
   "cell_type": "code",
   "execution_count": 6,
   "id": "00e9244b",
   "metadata": {},
   "outputs": [],
   "source": [
    "aisles=pd.read_csv('aisles.csv')\n",
    "departments=pd.read_csv('departments.csv')\n",
    "products=pd.read_csv('products.csv')\n",
    "order_products_prior=pd.read_csv('order_products__prior.csv')\n",
    "order_products_train=pd.read_csv('order_products__train.csv')\n",
    "orders=pd.read_csv('orders.csv')\n",
    "\n"
   ]
  },
  {
   "cell_type": "code",
   "execution_count": 7,
   "id": "a03c7bd1",
   "metadata": {},
   "outputs": [
    {
     "data": {
      "text/html": [
       "<div>\n",
       "<style scoped>\n",
       "    .dataframe tbody tr th:only-of-type {\n",
       "        vertical-align: middle;\n",
       "    }\n",
       "\n",
       "    .dataframe tbody tr th {\n",
       "        vertical-align: top;\n",
       "    }\n",
       "\n",
       "    .dataframe thead th {\n",
       "        text-align: right;\n",
       "    }\n",
       "</style>\n",
       "<table border=\"1\" class=\"dataframe\">\n",
       "  <thead>\n",
       "    <tr style=\"text-align: right;\">\n",
       "      <th></th>\n",
       "      <th>aisle_id</th>\n",
       "      <th>aisle</th>\n",
       "    </tr>\n",
       "  </thead>\n",
       "  <tbody>\n",
       "    <tr>\n",
       "      <th>0</th>\n",
       "      <td>1</td>\n",
       "      <td>prepared soups salads</td>\n",
       "    </tr>\n",
       "    <tr>\n",
       "      <th>1</th>\n",
       "      <td>2</td>\n",
       "      <td>specialty cheeses</td>\n",
       "    </tr>\n",
       "    <tr>\n",
       "      <th>2</th>\n",
       "      <td>3</td>\n",
       "      <td>energy granola bars</td>\n",
       "    </tr>\n",
       "    <tr>\n",
       "      <th>3</th>\n",
       "      <td>4</td>\n",
       "      <td>instant foods</td>\n",
       "    </tr>\n",
       "    <tr>\n",
       "      <th>4</th>\n",
       "      <td>5</td>\n",
       "      <td>marinades meat preparation</td>\n",
       "    </tr>\n",
       "  </tbody>\n",
       "</table>\n",
       "</div>"
      ],
      "text/plain": [
       "   aisle_id                       aisle\n",
       "0         1       prepared soups salads\n",
       "1         2           specialty cheeses\n",
       "2         3         energy granola bars\n",
       "3         4               instant foods\n",
       "4         5  marinades meat preparation"
      ]
     },
     "execution_count": 7,
     "metadata": {},
     "output_type": "execute_result"
    }
   ],
   "source": [
    "aisles.head()"
   ]
  },
  {
   "cell_type": "code",
   "execution_count": 8,
   "id": "ddabcfea",
   "metadata": {
    "scrolled": false
   },
   "outputs": [
    {
     "name": "stdout",
     "output_type": "stream",
     "text": [
      "<class 'pandas.core.frame.DataFrame'>\n",
      "RangeIndex: 134 entries, 0 to 133\n",
      "Data columns (total 2 columns):\n",
      " #   Column    Non-Null Count  Dtype \n",
      "---  ------    --------------  ----- \n",
      " 0   aisle_id  134 non-null    int64 \n",
      " 1   aisle     134 non-null    object\n",
      "dtypes: int64(1), object(1)\n",
      "memory usage: 2.2+ KB\n"
     ]
    }
   ],
   "source": [
    "aisles.info()  #No missing values"
   ]
  },
  {
   "cell_type": "code",
   "execution_count": 9,
   "id": "efa14ae0",
   "metadata": {},
   "outputs": [
    {
     "data": {
      "text/html": [
       "<div>\n",
       "<style scoped>\n",
       "    .dataframe tbody tr th:only-of-type {\n",
       "        vertical-align: middle;\n",
       "    }\n",
       "\n",
       "    .dataframe tbody tr th {\n",
       "        vertical-align: top;\n",
       "    }\n",
       "\n",
       "    .dataframe thead th {\n",
       "        text-align: right;\n",
       "    }\n",
       "</style>\n",
       "<table border=\"1\" class=\"dataframe\">\n",
       "  <thead>\n",
       "    <tr style=\"text-align: right;\">\n",
       "      <th></th>\n",
       "      <th>department_id</th>\n",
       "      <th>department</th>\n",
       "    </tr>\n",
       "  </thead>\n",
       "  <tbody>\n",
       "    <tr>\n",
       "      <th>0</th>\n",
       "      <td>1</td>\n",
       "      <td>frozen</td>\n",
       "    </tr>\n",
       "    <tr>\n",
       "      <th>1</th>\n",
       "      <td>2</td>\n",
       "      <td>other</td>\n",
       "    </tr>\n",
       "    <tr>\n",
       "      <th>2</th>\n",
       "      <td>3</td>\n",
       "      <td>bakery</td>\n",
       "    </tr>\n",
       "    <tr>\n",
       "      <th>3</th>\n",
       "      <td>4</td>\n",
       "      <td>produce</td>\n",
       "    </tr>\n",
       "    <tr>\n",
       "      <th>4</th>\n",
       "      <td>5</td>\n",
       "      <td>alcohol</td>\n",
       "    </tr>\n",
       "  </tbody>\n",
       "</table>\n",
       "</div>"
      ],
      "text/plain": [
       "   department_id department\n",
       "0              1     frozen\n",
       "1              2      other\n",
       "2              3     bakery\n",
       "3              4    produce\n",
       "4              5    alcohol"
      ]
     },
     "execution_count": 9,
     "metadata": {},
     "output_type": "execute_result"
    }
   ],
   "source": [
    "departments.head()"
   ]
  },
  {
   "cell_type": "code",
   "execution_count": 10,
   "id": "01c3a6c7",
   "metadata": {},
   "outputs": [
    {
     "name": "stdout",
     "output_type": "stream",
     "text": [
      "<class 'pandas.core.frame.DataFrame'>\n",
      "RangeIndex: 21 entries, 0 to 20\n",
      "Data columns (total 2 columns):\n",
      " #   Column         Non-Null Count  Dtype \n",
      "---  ------         --------------  ----- \n",
      " 0   department_id  21 non-null     int64 \n",
      " 1   department     21 non-null     object\n",
      "dtypes: int64(1), object(1)\n",
      "memory usage: 464.0+ bytes\n"
     ]
    }
   ],
   "source": [
    "departments.info() #no missing values"
   ]
  },
  {
   "cell_type": "code",
   "execution_count": 11,
   "id": "c75e1498",
   "metadata": {},
   "outputs": [
    {
     "data": {
      "text/html": [
       "<div>\n",
       "<style scoped>\n",
       "    .dataframe tbody tr th:only-of-type {\n",
       "        vertical-align: middle;\n",
       "    }\n",
       "\n",
       "    .dataframe tbody tr th {\n",
       "        vertical-align: top;\n",
       "    }\n",
       "\n",
       "    .dataframe thead th {\n",
       "        text-align: right;\n",
       "    }\n",
       "</style>\n",
       "<table border=\"1\" class=\"dataframe\">\n",
       "  <thead>\n",
       "    <tr style=\"text-align: right;\">\n",
       "      <th></th>\n",
       "      <th>product_id</th>\n",
       "      <th>product_name</th>\n",
       "      <th>aisle_id</th>\n",
       "      <th>department_id</th>\n",
       "    </tr>\n",
       "  </thead>\n",
       "  <tbody>\n",
       "    <tr>\n",
       "      <th>0</th>\n",
       "      <td>1</td>\n",
       "      <td>Chocolate Sandwich Cookies</td>\n",
       "      <td>61</td>\n",
       "      <td>19</td>\n",
       "    </tr>\n",
       "    <tr>\n",
       "      <th>1</th>\n",
       "      <td>2</td>\n",
       "      <td>All-Seasons Salt</td>\n",
       "      <td>104</td>\n",
       "      <td>13</td>\n",
       "    </tr>\n",
       "    <tr>\n",
       "      <th>2</th>\n",
       "      <td>3</td>\n",
       "      <td>Robust Golden Unsweetened Oolong Tea</td>\n",
       "      <td>94</td>\n",
       "      <td>7</td>\n",
       "    </tr>\n",
       "    <tr>\n",
       "      <th>3</th>\n",
       "      <td>4</td>\n",
       "      <td>Smart Ones Classic Favorites Mini Rigatoni Wit...</td>\n",
       "      <td>38</td>\n",
       "      <td>1</td>\n",
       "    </tr>\n",
       "    <tr>\n",
       "      <th>4</th>\n",
       "      <td>5</td>\n",
       "      <td>Green Chile Anytime Sauce</td>\n",
       "      <td>5</td>\n",
       "      <td>13</td>\n",
       "    </tr>\n",
       "  </tbody>\n",
       "</table>\n",
       "</div>"
      ],
      "text/plain": [
       "   product_id                                       product_name  aisle_id  \\\n",
       "0           1                         Chocolate Sandwich Cookies        61   \n",
       "1           2                                   All-Seasons Salt       104   \n",
       "2           3               Robust Golden Unsweetened Oolong Tea        94   \n",
       "3           4  Smart Ones Classic Favorites Mini Rigatoni Wit...        38   \n",
       "4           5                          Green Chile Anytime Sauce         5   \n",
       "\n",
       "   department_id  \n",
       "0             19  \n",
       "1             13  \n",
       "2              7  \n",
       "3              1  \n",
       "4             13  "
      ]
     },
     "execution_count": 11,
     "metadata": {},
     "output_type": "execute_result"
    }
   ],
   "source": [
    "products.head()"
   ]
  },
  {
   "cell_type": "code",
   "execution_count": 12,
   "id": "e9e59c37",
   "metadata": {},
   "outputs": [
    {
     "name": "stdout",
     "output_type": "stream",
     "text": [
      "<class 'pandas.core.frame.DataFrame'>\n",
      "RangeIndex: 49688 entries, 0 to 49687\n",
      "Data columns (total 4 columns):\n",
      " #   Column         Non-Null Count  Dtype \n",
      "---  ------         --------------  ----- \n",
      " 0   product_id     49688 non-null  int64 \n",
      " 1   product_name   49688 non-null  object\n",
      " 2   aisle_id       49688 non-null  int64 \n",
      " 3   department_id  49688 non-null  int64 \n",
      "dtypes: int64(3), object(1)\n",
      "memory usage: 1.5+ MB\n"
     ]
    }
   ],
   "source": [
    "products.info() #no missing values"
   ]
  },
  {
   "cell_type": "code",
   "execution_count": 13,
   "id": "343427a7",
   "metadata": {
    "scrolled": true
   },
   "outputs": [
    {
     "data": {
      "text/html": [
       "<div>\n",
       "<style scoped>\n",
       "    .dataframe tbody tr th:only-of-type {\n",
       "        vertical-align: middle;\n",
       "    }\n",
       "\n",
       "    .dataframe tbody tr th {\n",
       "        vertical-align: top;\n",
       "    }\n",
       "\n",
       "    .dataframe thead th {\n",
       "        text-align: right;\n",
       "    }\n",
       "</style>\n",
       "<table border=\"1\" class=\"dataframe\">\n",
       "  <thead>\n",
       "    <tr style=\"text-align: right;\">\n",
       "      <th></th>\n",
       "      <th>order_id</th>\n",
       "      <th>product_id</th>\n",
       "      <th>add_to_cart_order</th>\n",
       "      <th>reordered</th>\n",
       "    </tr>\n",
       "  </thead>\n",
       "  <tbody>\n",
       "    <tr>\n",
       "      <th>0</th>\n",
       "      <td>2</td>\n",
       "      <td>33120</td>\n",
       "      <td>1</td>\n",
       "      <td>1</td>\n",
       "    </tr>\n",
       "    <tr>\n",
       "      <th>1</th>\n",
       "      <td>2</td>\n",
       "      <td>28985</td>\n",
       "      <td>2</td>\n",
       "      <td>1</td>\n",
       "    </tr>\n",
       "    <tr>\n",
       "      <th>2</th>\n",
       "      <td>2</td>\n",
       "      <td>9327</td>\n",
       "      <td>3</td>\n",
       "      <td>0</td>\n",
       "    </tr>\n",
       "    <tr>\n",
       "      <th>3</th>\n",
       "      <td>2</td>\n",
       "      <td>45918</td>\n",
       "      <td>4</td>\n",
       "      <td>1</td>\n",
       "    </tr>\n",
       "    <tr>\n",
       "      <th>4</th>\n",
       "      <td>2</td>\n",
       "      <td>30035</td>\n",
       "      <td>5</td>\n",
       "      <td>0</td>\n",
       "    </tr>\n",
       "  </tbody>\n",
       "</table>\n",
       "</div>"
      ],
      "text/plain": [
       "   order_id  product_id  add_to_cart_order  reordered\n",
       "0         2       33120                  1          1\n",
       "1         2       28985                  2          1\n",
       "2         2        9327                  3          0\n",
       "3         2       45918                  4          1\n",
       "4         2       30035                  5          0"
      ]
     },
     "execution_count": 13,
     "metadata": {},
     "output_type": "execute_result"
    }
   ],
   "source": [
    "order_products_prior.head()"
   ]
  },
  {
   "cell_type": "code",
   "execution_count": 14,
   "id": "7690d5df",
   "metadata": {},
   "outputs": [
    {
     "name": "stdout",
     "output_type": "stream",
     "text": [
      "<class 'pandas.core.frame.DataFrame'>\n",
      "RangeIndex: 32434489 entries, 0 to 32434488\n",
      "Data columns (total 4 columns):\n",
      " #   Column             Dtype\n",
      "---  ------             -----\n",
      " 0   order_id           int64\n",
      " 1   product_id         int64\n",
      " 2   add_to_cart_order  int64\n",
      " 3   reordered          int64\n",
      "dtypes: int64(4)\n",
      "memory usage: 989.8 MB\n"
     ]
    }
   ],
   "source": [
    "order_products_prior.info()"
   ]
  },
  {
   "cell_type": "code",
   "execution_count": 15,
   "id": "64589b1e",
   "metadata": {},
   "outputs": [
    {
     "data": {
      "text/html": [
       "<div>\n",
       "<style scoped>\n",
       "    .dataframe tbody tr th:only-of-type {\n",
       "        vertical-align: middle;\n",
       "    }\n",
       "\n",
       "    .dataframe tbody tr th {\n",
       "        vertical-align: top;\n",
       "    }\n",
       "\n",
       "    .dataframe thead th {\n",
       "        text-align: right;\n",
       "    }\n",
       "</style>\n",
       "<table border=\"1\" class=\"dataframe\">\n",
       "  <thead>\n",
       "    <tr style=\"text-align: right;\">\n",
       "      <th></th>\n",
       "      <th>order_id</th>\n",
       "      <th>product_id</th>\n",
       "      <th>add_to_cart_order</th>\n",
       "      <th>reordered</th>\n",
       "    </tr>\n",
       "  </thead>\n",
       "  <tbody>\n",
       "    <tr>\n",
       "      <th>0</th>\n",
       "      <td>1</td>\n",
       "      <td>49302</td>\n",
       "      <td>1</td>\n",
       "      <td>1</td>\n",
       "    </tr>\n",
       "    <tr>\n",
       "      <th>1</th>\n",
       "      <td>1</td>\n",
       "      <td>11109</td>\n",
       "      <td>2</td>\n",
       "      <td>1</td>\n",
       "    </tr>\n",
       "    <tr>\n",
       "      <th>2</th>\n",
       "      <td>1</td>\n",
       "      <td>10246</td>\n",
       "      <td>3</td>\n",
       "      <td>0</td>\n",
       "    </tr>\n",
       "    <tr>\n",
       "      <th>3</th>\n",
       "      <td>1</td>\n",
       "      <td>49683</td>\n",
       "      <td>4</td>\n",
       "      <td>0</td>\n",
       "    </tr>\n",
       "    <tr>\n",
       "      <th>4</th>\n",
       "      <td>1</td>\n",
       "      <td>43633</td>\n",
       "      <td>5</td>\n",
       "      <td>1</td>\n",
       "    </tr>\n",
       "  </tbody>\n",
       "</table>\n",
       "</div>"
      ],
      "text/plain": [
       "   order_id  product_id  add_to_cart_order  reordered\n",
       "0         1       49302                  1          1\n",
       "1         1       11109                  2          1\n",
       "2         1       10246                  3          0\n",
       "3         1       49683                  4          0\n",
       "4         1       43633                  5          1"
      ]
     },
     "execution_count": 15,
     "metadata": {},
     "output_type": "execute_result"
    }
   ],
   "source": [
    "order_products_train.head()"
   ]
  },
  {
   "cell_type": "code",
   "execution_count": 16,
   "id": "f47731d2",
   "metadata": {},
   "outputs": [
    {
     "name": "stdout",
     "output_type": "stream",
     "text": [
      "<class 'pandas.core.frame.DataFrame'>\n",
      "RangeIndex: 1384617 entries, 0 to 1384616\n",
      "Data columns (total 4 columns):\n",
      " #   Column             Non-Null Count    Dtype\n",
      "---  ------             --------------    -----\n",
      " 0   order_id           1384617 non-null  int64\n",
      " 1   product_id         1384617 non-null  int64\n",
      " 2   add_to_cart_order  1384617 non-null  int64\n",
      " 3   reordered          1384617 non-null  int64\n",
      "dtypes: int64(4)\n",
      "memory usage: 42.3 MB\n"
     ]
    }
   ],
   "source": [
    "order_products_train.info() #no missing values"
   ]
  },
  {
   "cell_type": "code",
   "execution_count": 17,
   "id": "49fc4749",
   "metadata": {},
   "outputs": [
    {
     "data": {
      "text/html": [
       "<div>\n",
       "<style scoped>\n",
       "    .dataframe tbody tr th:only-of-type {\n",
       "        vertical-align: middle;\n",
       "    }\n",
       "\n",
       "    .dataframe tbody tr th {\n",
       "        vertical-align: top;\n",
       "    }\n",
       "\n",
       "    .dataframe thead th {\n",
       "        text-align: right;\n",
       "    }\n",
       "</style>\n",
       "<table border=\"1\" class=\"dataframe\">\n",
       "  <thead>\n",
       "    <tr style=\"text-align: right;\">\n",
       "      <th></th>\n",
       "      <th>order_id</th>\n",
       "      <th>user_id</th>\n",
       "      <th>eval_set</th>\n",
       "      <th>order_number</th>\n",
       "      <th>order_dow</th>\n",
       "      <th>order_hour_of_day</th>\n",
       "      <th>days_since_prior_order</th>\n",
       "    </tr>\n",
       "  </thead>\n",
       "  <tbody>\n",
       "    <tr>\n",
       "      <th>0</th>\n",
       "      <td>2539329</td>\n",
       "      <td>1</td>\n",
       "      <td>prior</td>\n",
       "      <td>1</td>\n",
       "      <td>2</td>\n",
       "      <td>8</td>\n",
       "      <td>NaN</td>\n",
       "    </tr>\n",
       "    <tr>\n",
       "      <th>1</th>\n",
       "      <td>2398795</td>\n",
       "      <td>1</td>\n",
       "      <td>prior</td>\n",
       "      <td>2</td>\n",
       "      <td>3</td>\n",
       "      <td>7</td>\n",
       "      <td>15.0</td>\n",
       "    </tr>\n",
       "    <tr>\n",
       "      <th>2</th>\n",
       "      <td>473747</td>\n",
       "      <td>1</td>\n",
       "      <td>prior</td>\n",
       "      <td>3</td>\n",
       "      <td>3</td>\n",
       "      <td>12</td>\n",
       "      <td>21.0</td>\n",
       "    </tr>\n",
       "    <tr>\n",
       "      <th>3</th>\n",
       "      <td>2254736</td>\n",
       "      <td>1</td>\n",
       "      <td>prior</td>\n",
       "      <td>4</td>\n",
       "      <td>4</td>\n",
       "      <td>7</td>\n",
       "      <td>29.0</td>\n",
       "    </tr>\n",
       "    <tr>\n",
       "      <th>4</th>\n",
       "      <td>431534</td>\n",
       "      <td>1</td>\n",
       "      <td>prior</td>\n",
       "      <td>5</td>\n",
       "      <td>4</td>\n",
       "      <td>15</td>\n",
       "      <td>28.0</td>\n",
       "    </tr>\n",
       "  </tbody>\n",
       "</table>\n",
       "</div>"
      ],
      "text/plain": [
       "   order_id  user_id eval_set  order_number  order_dow  order_hour_of_day  \\\n",
       "0   2539329        1    prior             1          2                  8   \n",
       "1   2398795        1    prior             2          3                  7   \n",
       "2    473747        1    prior             3          3                 12   \n",
       "3   2254736        1    prior             4          4                  7   \n",
       "4    431534        1    prior             5          4                 15   \n",
       "\n",
       "   days_since_prior_order  \n",
       "0                     NaN  \n",
       "1                    15.0  \n",
       "2                    21.0  \n",
       "3                    29.0  \n",
       "4                    28.0  "
      ]
     },
     "execution_count": 17,
     "metadata": {},
     "output_type": "execute_result"
    }
   ],
   "source": [
    "orders.head()"
   ]
  },
  {
   "cell_type": "code",
   "execution_count": 18,
   "id": "1752b65c",
   "metadata": {},
   "outputs": [
    {
     "name": "stdout",
     "output_type": "stream",
     "text": [
      "<class 'pandas.core.frame.DataFrame'>\n",
      "RangeIndex: 3421083 entries, 0 to 3421082\n",
      "Data columns (total 7 columns):\n",
      " #   Column                  Dtype  \n",
      "---  ------                  -----  \n",
      " 0   order_id                int64  \n",
      " 1   user_id                 int64  \n",
      " 2   eval_set                object \n",
      " 3   order_number            int64  \n",
      " 4   order_dow               int64  \n",
      " 5   order_hour_of_day       int64  \n",
      " 6   days_since_prior_order  float64\n",
      "dtypes: float64(1), int64(5), object(1)\n",
      "memory usage: 182.7+ MB\n"
     ]
    }
   ],
   "source": [
    "orders.info()"
   ]
  },
  {
   "cell_type": "markdown",
   "id": "9a87a057",
   "metadata": {},
   "source": [
    "### **Checking for missing values in Data frame order_products__prior and orders**"
   ]
  },
  {
   "cell_type": "code",
   "execution_count": 19,
   "id": "1295a45c",
   "metadata": {},
   "outputs": [
    {
     "data": {
      "text/plain": [
       "order_id             0\n",
       "product_id           0\n",
       "add_to_cart_order    0\n",
       "reordered            0\n",
       "dtype: int64"
      ]
     },
     "execution_count": 19,
     "metadata": {},
     "output_type": "execute_result"
    }
   ],
   "source": [
    "order_products_prior.isnull().sum() #No missing Values"
   ]
  },
  {
   "cell_type": "code",
   "execution_count": 20,
   "id": "4d3a495f",
   "metadata": {
    "scrolled": true
   },
   "outputs": [],
   "source": [
    "missing_values = orders.isnull().sum() #MISSING VALUES"
   ]
  },
  {
   "cell_type": "code",
   "execution_count": 21,
   "id": "e3edcec4",
   "metadata": {},
   "outputs": [
    {
     "data": {
      "text/plain": [
       "order_id                  0.000000\n",
       "user_id                   0.000000\n",
       "eval_set                  0.000000\n",
       "order_number              0.000000\n",
       "order_dow                 0.000000\n",
       "order_hour_of_day         0.000000\n",
       "days_since_prior_order    0.060276\n",
       "dtype: float64"
      ]
     },
     "execution_count": 21,
     "metadata": {},
     "output_type": "execute_result"
    }
   ],
   "source": [
    "percentage = missing_values/orders.isnull().count()\n",
    "percentage"
   ]
  },
  {
   "cell_type": "markdown",
   "id": "b6bd21be",
   "metadata": {},
   "source": [
    "### Values are missing because for every user’s 1st order ( order_number = 1) the days_since_prior_order is Nan, which makes sense. We can impute 0 here. or since Missing values are only 6% of total values, we can remove these rows and carry on with our analysis.  I will use the second approach."
   ]
  },
  {
   "cell_type": "code",
   "execution_count": 22,
   "id": "8bfd1665",
   "metadata": {},
   "outputs": [],
   "source": [
    "orders= orders[orders['days_since_prior_order'].notnull()]"
   ]
  },
  {
   "cell_type": "code",
   "execution_count": 23,
   "id": "b9519918",
   "metadata": {},
   "outputs": [
    {
     "data": {
      "text/plain": [
       "order_id                  0\n",
       "user_id                   0\n",
       "eval_set                  0\n",
       "order_number              0\n",
       "order_dow                 0\n",
       "order_hour_of_day         0\n",
       "days_since_prior_order    0\n",
       "dtype: int64"
      ]
     },
     "execution_count": 23,
     "metadata": {},
     "output_type": "execute_result"
    }
   ],
   "source": [
    "orders.isnull().sum() #DataFrame after removing the null values"
   ]
  },
  {
   "cell_type": "markdown",
   "id": "a6d09166",
   "metadata": {},
   "source": [
    "## Exploratory Data Analyais"
   ]
  },
  {
   "cell_type": "markdown",
   "id": "c83a6308",
   "metadata": {},
   "source": [
    "### Analyzing the dataframe *orders*"
   ]
  },
  {
   "cell_type": "code",
   "execution_count": 24,
   "id": "6bd5c78c",
   "metadata": {},
   "outputs": [
    {
     "data": {
      "text/plain": [
       "prior    3008665\n",
       "train     131209\n",
       "test       75000\n",
       "Name: eval_set, dtype: int64"
      ]
     },
     "execution_count": 24,
     "metadata": {},
     "output_type": "execute_result"
    }
   ],
   "source": [
    "#Columm eval_set has 3 values- prior,train,test.\n",
    "orders['eval_set'].value_counts()"
   ]
  },
  {
   "cell_type": "code",
   "execution_count": 25,
   "id": "5bcf9e3b",
   "metadata": {},
   "outputs": [
    {
     "data": {
      "image/png": "[encoded data removed]",
      "text/plain": [
       "<Figure size 576x432 with 1 Axes>"
      ]
     },
     "metadata": {},
     "output_type": "display_data"
    }
   ],
   "source": [
    "sns.set_style('whitegrid')\n",
    "plt.figure(figsize=(8,6))\n",
    "ax= sns.countplot(x='eval_set', data= orders)\n",
    "ax.set_title('Evaluation Set Type Vs Number of occurence in Data Set', fontsize=16)\n",
    "\n",
    "plt.show()"
   ]
  },
  {
   "cell_type": "markdown",
   "id": "951caf1d",
   "metadata": {},
   "source": [
    "**Now let us check order_dow distribution**"
   ]
  },
  {
   "cell_type": "code",
   "execution_count": 26,
   "id": "db4c41f7",
   "metadata": {},
   "outputs": [
    {
     "data": {
      "image/png": "[encoded data removed]",
      "text/plain": [
       "<Figure size 576x432 with 1 Axes>"
      ]
     },
     "metadata": {},
     "output_type": "display_data"
    }
   ],
   "source": [
    "plt.figure(figsize=(8,6))\n",
    "ax= sns.countplot(x='order_dow', data= orders, palette='rocket')\n",
    "ax.set_title('Day of week Vs Number of orders on that particular day', fontsize=16)\n",
    "\n",
    "plt.show()"
   ]
  },
  {
   "cell_type": "markdown",
   "id": "b0e19637",
   "metadata": {},
   "source": [
    "From the graph above we can see that maximum number of orders is on Sunday, followed by monday. which makes sense as people will want to buy groceries either at the weekend or start of the week. Mid-week has less number of orders with minimum orders on thursday. "
   ]
  },
  {
   "cell_type": "markdown",
   "id": "43587386",
   "metadata": {},
   "source": [
    "**Checking order_hour_of_day distribution**"
   ]
  },
  {
   "cell_type": "code",
   "execution_count": 27,
   "id": "a9cc6c6e",
   "metadata": {},
   "outputs": [
    {
     "data": {
      "image/png": "[encoded data removed]",
      "text/plain": [
       "<Figure size 864x432 with 1 Axes>"
      ]
     },
     "metadata": {},
     "output_type": "display_data"
    }
   ],
   "source": [
    "plt.figure(figsize=(12,6))\n",
    "ax= sns.countplot(x='order_hour_of_day', data= orders, palette='rocket')\n",
    "ax.set_title('Hours of Day Vs Number of orders on that particular hour', fontsize=16)\n",
    "\n",
    "plt.show()"
   ]
  },
  {
   "cell_type": "markdown",
   "id": "2488da20",
   "metadata": {},
   "source": [
    "The above graph clearly depicats that maximum number of orders are in morning 10-11 am or in evening 3-4pm. At night between 1-5am orders are the least as that is when people are sleeping."
   ]
  },
  {
   "cell_type": "markdown",
   "id": "d47cb71e",
   "metadata": {},
   "source": [
    "**Days_since_prior_order Distribution**"
   ]
  },
  {
   "cell_type": "code",
   "execution_count": 28,
   "id": "7df3ba77",
   "metadata": {},
   "outputs": [
    {
     "data": {
      "image/png": "[encoded data removed]",
      "text/plain": [
       "<Figure size 864x432 with 1 Axes>"
      ]
     },
     "metadata": {},
     "output_type": "display_data"
    }
   ],
   "source": [
    "plt.figure(figsize=(12,6))\n",
    "ax= sns.countplot(x='days_since_prior_order', data= orders, palette='rocket_r')\n",
    "ax.set_title('Days since prior order Vs Number of orders', fontsize=16)\n",
    "\n",
    "plt.show()"
   ]
  },
  {
   "cell_type": "markdown",
   "id": "a6cc63d9",
   "metadata": {},
   "source": [
    "From the graph it is clear that there is a peak on 7th day, then local peaks at day 14,day 21 and day 28. Then there is a global peak on day 30 meaning monthly peak. "
   ]
  },
  {
   "cell_type": "markdown",
   "id": "3eb4924e",
   "metadata": {},
   "source": [
    "**Now we will group orders according to day of week and hour of day for better visualization.**"
   ]
  },
  {
   "cell_type": "code",
   "execution_count": 29,
   "id": "b9aa494e",
   "metadata": {},
   "outputs": [
    {
     "data": {
      "text/html": [
       "<div>\n",
       "<style scoped>\n",
       "    .dataframe tbody tr th:only-of-type {\n",
       "        vertical-align: middle;\n",
       "    }\n",
       "\n",
       "    .dataframe tbody tr th {\n",
       "        vertical-align: top;\n",
       "    }\n",
       "\n",
       "    .dataframe thead th {\n",
       "        text-align: right;\n",
       "    }\n",
       "</style>\n",
       "<table border=\"1\" class=\"dataframe\">\n",
       "  <thead>\n",
       "    <tr style=\"text-align: right;\">\n",
       "      <th></th>\n",
       "      <th>order_dow</th>\n",
       "      <th>order_hour_of_day</th>\n",
       "      <th>order_number</th>\n",
       "    </tr>\n",
       "  </thead>\n",
       "  <tbody>\n",
       "    <tr>\n",
       "      <th>0</th>\n",
       "      <td>0</td>\n",
       "      <td>0</td>\n",
       "      <td>3690</td>\n",
       "    </tr>\n",
       "    <tr>\n",
       "      <th>1</th>\n",
       "      <td>0</td>\n",
       "      <td>1</td>\n",
       "      <td>2245</td>\n",
       "    </tr>\n",
       "    <tr>\n",
       "      <th>2</th>\n",
       "      <td>0</td>\n",
       "      <td>2</td>\n",
       "      <td>1296</td>\n",
       "    </tr>\n",
       "    <tr>\n",
       "      <th>3</th>\n",
       "      <td>0</td>\n",
       "      <td>3</td>\n",
       "      <td>902</td>\n",
       "    </tr>\n",
       "    <tr>\n",
       "      <th>4</th>\n",
       "      <td>0</td>\n",
       "      <td>4</td>\n",
       "      <td>756</td>\n",
       "    </tr>\n",
       "    <tr>\n",
       "      <th>...</th>\n",
       "      <td>...</td>\n",
       "      <td>...</td>\n",
       "      <td>...</td>\n",
       "    </tr>\n",
       "    <tr>\n",
       "      <th>163</th>\n",
       "      <td>6</td>\n",
       "      <td>19</td>\n",
       "      <td>17128</td>\n",
       "    </tr>\n",
       "    <tr>\n",
       "      <th>164</th>\n",
       "      <td>6</td>\n",
       "      <td>20</td>\n",
       "      <td>12486</td>\n",
       "    </tr>\n",
       "    <tr>\n",
       "      <th>165</th>\n",
       "      <td>6</td>\n",
       "      <td>21</td>\n",
       "      <td>9842</td>\n",
       "    </tr>\n",
       "    <tr>\n",
       "      <th>166</th>\n",
       "      <td>6</td>\n",
       "      <td>22</td>\n",
       "      <td>7973</td>\n",
       "    </tr>\n",
       "    <tr>\n",
       "      <th>167</th>\n",
       "      <td>6</td>\n",
       "      <td>23</td>\n",
       "      <td>5710</td>\n",
       "    </tr>\n",
       "  </tbody>\n",
       "</table>\n",
       "<p>168 rows × 3 columns</p>\n",
       "</div>"
      ],
      "text/plain": [
       "     order_dow  order_hour_of_day  order_number\n",
       "0            0                  0          3690\n",
       "1            0                  1          2245\n",
       "2            0                  2          1296\n",
       "3            0                  3           902\n",
       "4            0                  4           756\n",
       "..         ...                ...           ...\n",
       "163          6                 19         17128\n",
       "164          6                 20         12486\n",
       "165          6                 21          9842\n",
       "166          6                 22          7973\n",
       "167          6                 23          5710\n",
       "\n",
       "[168 rows x 3 columns]"
      ]
     },
     "execution_count": 29,
     "metadata": {},
     "output_type": "execute_result"
    }
   ],
   "source": [
    "orders_grouped = orders.groupby(['order_dow','order_hour_of_day'])['order_number'].aggregate('count').reset_index()\n",
    "orders_grouped"
   ]
  },
  {
   "cell_type": "code",
   "execution_count": 30,
   "id": "757b4a26",
   "metadata": {},
   "outputs": [
    {
     "data": {
      "text/html": [
       "<div>\n",
       "<style scoped>\n",
       "    .dataframe tbody tr th:only-of-type {\n",
       "        vertical-align: middle;\n",
       "    }\n",
       "\n",
       "    .dataframe tbody tr th {\n",
       "        vertical-align: top;\n",
       "    }\n",
       "\n",
       "    .dataframe thead th {\n",
       "        text-align: right;\n",
       "    }\n",
       "</style>\n",
       "<table border=\"1\" class=\"dataframe\">\n",
       "  <thead>\n",
       "    <tr style=\"text-align: right;\">\n",
       "      <th>order_hour_of_day</th>\n",
       "      <th>0</th>\n",
       "      <th>1</th>\n",
       "      <th>2</th>\n",
       "      <th>3</th>\n",
       "      <th>4</th>\n",
       "      <th>5</th>\n",
       "      <th>6</th>\n",
       "      <th>7</th>\n",
       "      <th>8</th>\n",
       "      <th>9</th>\n",
       "      <th>...</th>\n",
       "      <th>14</th>\n",
       "      <th>15</th>\n",
       "      <th>16</th>\n",
       "      <th>17</th>\n",
       "      <th>18</th>\n",
       "      <th>19</th>\n",
       "      <th>20</th>\n",
       "      <th>21</th>\n",
       "      <th>22</th>\n",
       "      <th>23</th>\n",
       "    </tr>\n",
       "    <tr>\n",
       "      <th>order_dow</th>\n",
       "      <th></th>\n",
       "      <th></th>\n",
       "      <th></th>\n",
       "      <th></th>\n",
       "      <th></th>\n",
       "      <th></th>\n",
       "      <th></th>\n",
       "      <th></th>\n",
       "      <th></th>\n",
       "      <th></th>\n",
       "      <th></th>\n",
       "      <th></th>\n",
       "      <th></th>\n",
       "      <th></th>\n",
       "      <th></th>\n",
       "      <th></th>\n",
       "      <th></th>\n",
       "      <th></th>\n",
       "      <th></th>\n",
       "      <th></th>\n",
       "      <th></th>\n",
       "    </tr>\n",
       "  </thead>\n",
       "  <tbody>\n",
       "    <tr>\n",
       "      <th>0</th>\n",
       "      <td>3690</td>\n",
       "      <td>2245</td>\n",
       "      <td>1296</td>\n",
       "      <td>902</td>\n",
       "      <td>756</td>\n",
       "      <td>1093</td>\n",
       "      <td>3143</td>\n",
       "      <td>11762</td>\n",
       "      <td>26514</td>\n",
       "      <td>38363</td>\n",
       "      <td>...</td>\n",
       "      <td>51038</td>\n",
       "      <td>50427</td>\n",
       "      <td>46136</td>\n",
       "      <td>37056</td>\n",
       "      <td>27588</td>\n",
       "      <td>21126</td>\n",
       "      <td>17062</td>\n",
       "      <td>13577</td>\n",
       "      <td>10543</td>\n",
       "      <td>6460</td>\n",
       "    </tr>\n",
       "    <tr>\n",
       "      <th>1</th>\n",
       "      <td>3429</td>\n",
       "      <td>1723</td>\n",
       "      <td>1020</td>\n",
       "      <td>696</td>\n",
       "      <td>756</td>\n",
       "      <td>1523</td>\n",
       "      <td>5078</td>\n",
       "      <td>15725</td>\n",
       "      <td>32382</td>\n",
       "      <td>49136</td>\n",
       "      <td>...</td>\n",
       "      <td>43986</td>\n",
       "      <td>43590</td>\n",
       "      <td>41930</td>\n",
       "      <td>34407</td>\n",
       "      <td>27046</td>\n",
       "      <td>20687</td>\n",
       "      <td>15223</td>\n",
       "      <td>11196</td>\n",
       "      <td>8417</td>\n",
       "      <td>5245</td>\n",
       "    </tr>\n",
       "    <tr>\n",
       "      <th>2</th>\n",
       "      <td>2843</td>\n",
       "      <td>1472</td>\n",
       "      <td>878</td>\n",
       "      <td>683</td>\n",
       "      <td>696</td>\n",
       "      <td>1317</td>\n",
       "      <td>4511</td>\n",
       "      <td>12606</td>\n",
       "      <td>23343</td>\n",
       "      <td>34351</td>\n",
       "      <td>...</td>\n",
       "      <td>34946</td>\n",
       "      <td>35249</td>\n",
       "      <td>35239</td>\n",
       "      <td>30092</td>\n",
       "      <td>24797</td>\n",
       "      <td>18794</td>\n",
       "      <td>14045</td>\n",
       "      <td>10032</td>\n",
       "      <td>7649</td>\n",
       "      <td>4994</td>\n",
       "    </tr>\n",
       "    <tr>\n",
       "      <th>3</th>\n",
       "      <td>2760</td>\n",
       "      <td>1398</td>\n",
       "      <td>893</td>\n",
       "      <td>608</td>\n",
       "      <td>676</td>\n",
       "      <td>1279</td>\n",
       "      <td>4345</td>\n",
       "      <td>11775</td>\n",
       "      <td>21338</td>\n",
       "      <td>30578</td>\n",
       "      <td>...</td>\n",
       "      <td>32665</td>\n",
       "      <td>33878</td>\n",
       "      <td>33156</td>\n",
       "      <td>28483</td>\n",
       "      <td>23399</td>\n",
       "      <td>17991</td>\n",
       "      <td>12977</td>\n",
       "      <td>9681</td>\n",
       "      <td>7735</td>\n",
       "      <td>4867</td>\n",
       "    </tr>\n",
       "    <tr>\n",
       "      <th>4</th>\n",
       "      <td>2476</td>\n",
       "      <td>1415</td>\n",
       "      <td>841</td>\n",
       "      <td>644</td>\n",
       "      <td>695</td>\n",
       "      <td>1253</td>\n",
       "      <td>4184</td>\n",
       "      <td>11893</td>\n",
       "      <td>20682</td>\n",
       "      <td>29670</td>\n",
       "      <td>...</td>\n",
       "      <td>31696</td>\n",
       "      <td>32244</td>\n",
       "      <td>32034</td>\n",
       "      <td>27697</td>\n",
       "      <td>22935</td>\n",
       "      <td>18140</td>\n",
       "      <td>13326</td>\n",
       "      <td>10198</td>\n",
       "      <td>8275</td>\n",
       "      <td>5305</td>\n",
       "    </tr>\n",
       "    <tr>\n",
       "      <th>5</th>\n",
       "      <td>2987</td>\n",
       "      <td>1568</td>\n",
       "      <td>952</td>\n",
       "      <td>780</td>\n",
       "      <td>846</td>\n",
       "      <td>1502</td>\n",
       "      <td>4632</td>\n",
       "      <td>12770</td>\n",
       "      <td>22789</td>\n",
       "      <td>32342</td>\n",
       "      <td>...</td>\n",
       "      <td>35351</td>\n",
       "      <td>35379</td>\n",
       "      <td>33770</td>\n",
       "      <td>28131</td>\n",
       "      <td>22806</td>\n",
       "      <td>17517</td>\n",
       "      <td>12500</td>\n",
       "      <td>8945</td>\n",
       "      <td>7013</td>\n",
       "      <td>4926</td>\n",
       "    </tr>\n",
       "    <tr>\n",
       "      <th>6</th>\n",
       "      <td>3080</td>\n",
       "      <td>1815</td>\n",
       "      <td>1130</td>\n",
       "      <td>804</td>\n",
       "      <td>739</td>\n",
       "      <td>1056</td>\n",
       "      <td>3063</td>\n",
       "      <td>10696</td>\n",
       "      <td>21696</td>\n",
       "      <td>29012</td>\n",
       "      <td>...</td>\n",
       "      <td>36325</td>\n",
       "      <td>35608</td>\n",
       "      <td>33194</td>\n",
       "      <td>28342</td>\n",
       "      <td>22562</td>\n",
       "      <td>17128</td>\n",
       "      <td>12486</td>\n",
       "      <td>9842</td>\n",
       "      <td>7973</td>\n",
       "      <td>5710</td>\n",
       "    </tr>\n",
       "  </tbody>\n",
       "</table>\n",
       "<p>7 rows × 24 columns</p>\n",
       "</div>"
      ],
      "text/plain": [
       "order_hour_of_day    0     1     2    3    4     5     6      7      8   \\\n",
       "order_dow                                                                 \n",
       "0                  3690  2245  1296  902  756  1093  3143  11762  26514   \n",
       "1                  3429  1723  1020  696  756  1523  5078  15725  32382   \n",
       "2                  2843  1472   878  683  696  1317  4511  12606  23343   \n",
       "3                  2760  1398   893  608  676  1279  4345  11775  21338   \n",
       "4                  2476  1415   841  644  695  1253  4184  11893  20682   \n",
       "5                  2987  1568   952  780  846  1502  4632  12770  22789   \n",
       "6                  3080  1815  1130  804  739  1056  3063  10696  21696   \n",
       "\n",
       "order_hour_of_day     9   ...     14     15     16     17     18     19  \\\n",
       "order_dow                 ...                                             \n",
       "0                  38363  ...  51038  50427  46136  37056  27588  21126   \n",
       "1                  49136  ...  43986  43590  41930  34407  27046  20687   \n",
       "2                  34351  ...  34946  35249  35239  30092  24797  18794   \n",
       "3                  30578  ...  32665  33878  33156  28483  23399  17991   \n",
       "4                  29670  ...  31696  32244  32034  27697  22935  18140   \n",
       "5                  32342  ...  35351  35379  33770  28131  22806  17517   \n",
       "6                  29012  ...  36325  35608  33194  28342  22562  17128   \n",
       "\n",
       "order_hour_of_day     20     21     22    23  \n",
       "order_dow                                     \n",
       "0                  17062  13577  10543  6460  \n",
       "1                  15223  11196   8417  5245  \n",
       "2                  14045  10032   7649  4994  \n",
       "3                  12977   9681   7735  4867  \n",
       "4                  13326  10198   8275  5305  \n",
       "5                  12500   8945   7013  4926  \n",
       "6                  12486   9842   7973  5710  \n",
       "\n",
       "[7 rows x 24 columns]"
      ]
     },
     "execution_count": 30,
     "metadata": {},
     "output_type": "execute_result"
    }
   ],
   "source": [
    "#pivoting the data set for better visualization \n",
    "#This table shows no. of orders on all days of week on a particular hour of day .\n",
    "orders_grouped= orders_grouped.pivot('order_dow','order_hour_of_day', 'order_number')\n",
    "orders_grouped"
   ]
  },
  {
   "cell_type": "code",
   "execution_count": 31,
   "id": "8aa02230",
   "metadata": {},
   "outputs": [
    {
     "data": {
      "text/plain": [
       "<AxesSubplot:xlabel='order_hour_of_day', ylabel='order_dow'>"
      ]
     },
     "execution_count": 31,
     "metadata": {},
     "output_type": "execute_result"
    },
    {
     "data": {
      "image/png": "[encoded data removed]",
      "text/plain": [
       "<Figure size 864x576 with 2 Axes>"
      ]
     },
     "metadata": {},
     "output_type": "display_data"
    }
   ],
   "source": [
    "#Heatmap for visualization\n",
    "plt.figure(figsize=(12,8))\n",
    "sns.heatmap(orders_grouped, cmap='coolwarm')"
   ]
  },
  {
   "cell_type": "markdown",
   "id": "b0d20862",
   "metadata": {},
   "source": [
    "From the heatmap above it is clear that peak orders are either on sunday 2 PM or on monday 10 AM."
   ]
  },
  {
   "cell_type": "code",
   "execution_count": 32,
   "id": "dab89993",
   "metadata": {},
   "outputs": [
    {
     "data": {
      "text/plain": [
       "<AxesSubplot:>"
      ]
     },
     "execution_count": 32,
     "metadata": {},
     "output_type": "execute_result"
    },
    {
     "data": {
      "image/png": "[encoded data removed]",
      "text/plain": [
       "<Figure size 864x576 with 2 Axes>"
      ]
     },
     "metadata": {},
     "output_type": "display_data"
    }
   ],
   "source": [
    "plt.figure(figsize=(12,8))\n",
    "\n",
    "sns.heatmap( orders.corr(), cmap='vlag', annot=True)"
   ]
  },
  {
   "cell_type": "markdown",
   "id": "31a68a94",
   "metadata": {},
   "source": [
    "###  Merging orders_products_prior with dataframes  departments ,products and aisles and Analyzing it"
   ]
  },
  {
   "cell_type": "code",
   "execution_count": 33,
   "id": "369c8965",
   "metadata": {},
   "outputs": [
    {
     "data": {
      "text/html": [
       "<div>\n",
       "<style scoped>\n",
       "    .dataframe tbody tr th:only-of-type {\n",
       "        vertical-align: middle;\n",
       "    }\n",
       "\n",
       "    .dataframe tbody tr th {\n",
       "        vertical-align: top;\n",
       "    }\n",
       "\n",
       "    .dataframe thead th {\n",
       "        text-align: right;\n",
       "    }\n",
       "</style>\n",
       "<table border=\"1\" class=\"dataframe\">\n",
       "  <thead>\n",
       "    <tr style=\"text-align: right;\">\n",
       "      <th></th>\n",
       "      <th>order_id</th>\n",
       "      <th>product_id</th>\n",
       "      <th>add_to_cart_order</th>\n",
       "      <th>reordered</th>\n",
       "    </tr>\n",
       "  </thead>\n",
       "  <tbody>\n",
       "    <tr>\n",
       "      <th>0</th>\n",
       "      <td>2</td>\n",
       "      <td>33120</td>\n",
       "      <td>1</td>\n",
       "      <td>1</td>\n",
       "    </tr>\n",
       "    <tr>\n",
       "      <th>1</th>\n",
       "      <td>2</td>\n",
       "      <td>28985</td>\n",
       "      <td>2</td>\n",
       "      <td>1</td>\n",
       "    </tr>\n",
       "    <tr>\n",
       "      <th>2</th>\n",
       "      <td>2</td>\n",
       "      <td>9327</td>\n",
       "      <td>3</td>\n",
       "      <td>0</td>\n",
       "    </tr>\n",
       "    <tr>\n",
       "      <th>3</th>\n",
       "      <td>2</td>\n",
       "      <td>45918</td>\n",
       "      <td>4</td>\n",
       "      <td>1</td>\n",
       "    </tr>\n",
       "    <tr>\n",
       "      <th>4</th>\n",
       "      <td>2</td>\n",
       "      <td>30035</td>\n",
       "      <td>5</td>\n",
       "      <td>0</td>\n",
       "    </tr>\n",
       "  </tbody>\n",
       "</table>\n",
       "</div>"
      ],
      "text/plain": [
       "   order_id  product_id  add_to_cart_order  reordered\n",
       "0         2       33120                  1          1\n",
       "1         2       28985                  2          1\n",
       "2         2        9327                  3          0\n",
       "3         2       45918                  4          1\n",
       "4         2       30035                  5          0"
      ]
     },
     "execution_count": 33,
     "metadata": {},
     "output_type": "execute_result"
    }
   ],
   "source": [
    "order_products_prior.head()"
   ]
  },
  {
   "cell_type": "code",
   "execution_count": 34,
   "id": "05129450",
   "metadata": {},
   "outputs": [
    {
     "data": {
      "text/html": [
       "<div>\n",
       "<style scoped>\n",
       "    .dataframe tbody tr th:only-of-type {\n",
       "        vertical-align: middle;\n",
       "    }\n",
       "\n",
       "    .dataframe tbody tr th {\n",
       "        vertical-align: top;\n",
       "    }\n",
       "\n",
       "    .dataframe thead th {\n",
       "        text-align: right;\n",
       "    }\n",
       "</style>\n",
       "<table border=\"1\" class=\"dataframe\">\n",
       "  <thead>\n",
       "    <tr style=\"text-align: right;\">\n",
       "      <th></th>\n",
       "      <th>order_id</th>\n",
       "      <th>product_id</th>\n",
       "      <th>add_to_cart_order</th>\n",
       "      <th>reordered</th>\n",
       "    </tr>\n",
       "  </thead>\n",
       "  <tbody>\n",
       "    <tr>\n",
       "      <th>0</th>\n",
       "      <td>1</td>\n",
       "      <td>49302</td>\n",
       "      <td>1</td>\n",
       "      <td>1</td>\n",
       "    </tr>\n",
       "    <tr>\n",
       "      <th>1</th>\n",
       "      <td>1</td>\n",
       "      <td>11109</td>\n",
       "      <td>2</td>\n",
       "      <td>1</td>\n",
       "    </tr>\n",
       "    <tr>\n",
       "      <th>2</th>\n",
       "      <td>1</td>\n",
       "      <td>10246</td>\n",
       "      <td>3</td>\n",
       "      <td>0</td>\n",
       "    </tr>\n",
       "    <tr>\n",
       "      <th>3</th>\n",
       "      <td>1</td>\n",
       "      <td>49683</td>\n",
       "      <td>4</td>\n",
       "      <td>0</td>\n",
       "    </tr>\n",
       "    <tr>\n",
       "      <th>4</th>\n",
       "      <td>1</td>\n",
       "      <td>43633</td>\n",
       "      <td>5</td>\n",
       "      <td>1</td>\n",
       "    </tr>\n",
       "  </tbody>\n",
       "</table>\n",
       "</div>"
      ],
      "text/plain": [
       "   order_id  product_id  add_to_cart_order  reordered\n",
       "0         1       49302                  1          1\n",
       "1         1       11109                  2          1\n",
       "2         1       10246                  3          0\n",
       "3         1       49683                  4          0\n",
       "4         1       43633                  5          1"
      ]
     },
     "execution_count": 34,
     "metadata": {},
     "output_type": "execute_result"
    }
   ],
   "source": [
    "order_products_train.head()"
   ]
  },
  {
   "cell_type": "code",
   "execution_count": 66,
   "id": "f37217bf",
   "metadata": {},
   "outputs": [
    {
     "data": {
      "text/plain": [
       "19126536"
      ]
     },
     "execution_count": 66,
     "metadata": {},
     "output_type": "execute_result"
    }
   ],
   "source": [
    "#percentage of reordered products in order_products_prior\n",
    "order_products_prior['reordered'].sum()"
   ]
  },
  {
   "cell_type": "code",
   "execution_count": 67,
   "id": "32ddce28",
   "metadata": {},
   "outputs": [
    {
     "data": {
      "text/plain": [
       "32434489"
      ]
     },
     "execution_count": 67,
     "metadata": {},
     "output_type": "execute_result"
    }
   ],
   "source": [
    "len(order_products_prior)"
   ]
  },
  {
   "cell_type": "code",
   "execution_count": 36,
   "id": "b677eeb4",
   "metadata": {},
   "outputs": [
    {
     "data": {
      "text/plain": [
       "0.5985944127509629"
      ]
     },
     "execution_count": 36,
     "metadata": {},
     "output_type": "execute_result"
    }
   ],
   "source": [
    "#percentage of reordered products in order_products_train\n",
    "order_products_train['reordered'].sum()/len(order_products_train)"
   ]
  },
  {
   "cell_type": "markdown",
   "id": "5309eef1",
   "metadata": {},
   "source": [
    "**Almost 60% products are reordered in both order_products_prior and order_products_train dataframe.**"
   ]
  },
  {
   "cell_type": "code",
   "execution_count": 143,
   "id": "c267976a",
   "metadata": {},
   "outputs": [],
   "source": [
    "#concat train order and prior orders\n",
    "prior_train = pd.concat([order_products_prior, order_products_train]).sort_values(by=['order_id'])\n"
   ]
  },
  {
   "cell_type": "code",
   "execution_count": 144,
   "id": "8b0b8330",
   "metadata": {},
   "outputs": [
    {
     "name": "stdout",
     "output_type": "stream",
     "text": [
      "<class 'pandas.core.frame.DataFrame'>\n",
      "Int64Index: 33819106 entries, 0 to 32434487\n",
      "Data columns (total 4 columns):\n",
      " #   Column             Dtype\n",
      "---  ------             -----\n",
      " 0   order_id           int64\n",
      " 1   product_id         int64\n",
      " 2   add_to_cart_order  int64\n",
      " 3   reordered          int64\n",
      "dtypes: int64(4)\n",
      "memory usage: 1.3 GB\n"
     ]
    }
   ],
   "source": [
    "prior_train.info()"
   ]
  },
  {
   "cell_type": "code",
   "execution_count": 145,
   "id": "005ad852",
   "metadata": {},
   "outputs": [],
   "source": [
    "#Merging with products dataframe\n",
    "prior_train_orders = pd.merge(prior_train, products, on='product_id', how='left').sort_values(by=['order_id'])"
   ]
  },
  {
   "cell_type": "code",
   "execution_count": 146,
   "id": "533e9b5f",
   "metadata": {},
   "outputs": [
    {
     "data": {
      "text/html": [
       "<div>\n",
       "<style scoped>\n",
       "    .dataframe tbody tr th:only-of-type {\n",
       "        vertical-align: middle;\n",
       "    }\n",
       "\n",
       "    .dataframe tbody tr th {\n",
       "        vertical-align: top;\n",
       "    }\n",
       "\n",
       "    .dataframe thead th {\n",
       "        text-align: right;\n",
       "    }\n",
       "</style>\n",
       "<table border=\"1\" class=\"dataframe\">\n",
       "  <thead>\n",
       "    <tr style=\"text-align: right;\">\n",
       "      <th></th>\n",
       "      <th>order_id</th>\n",
       "      <th>product_id</th>\n",
       "      <th>add_to_cart_order</th>\n",
       "      <th>reordered</th>\n",
       "      <th>product_name</th>\n",
       "      <th>aisle_id</th>\n",
       "      <th>department_id</th>\n",
       "    </tr>\n",
       "  </thead>\n",
       "  <tbody>\n",
       "    <tr>\n",
       "      <th>0</th>\n",
       "      <td>1</td>\n",
       "      <td>49302</td>\n",
       "      <td>1</td>\n",
       "      <td>1</td>\n",
       "      <td>Bulgarian Yogurt</td>\n",
       "      <td>120</td>\n",
       "      <td>16</td>\n",
       "    </tr>\n",
       "    <tr>\n",
       "      <th>1</th>\n",
       "      <td>1</td>\n",
       "      <td>10246</td>\n",
       "      <td>3</td>\n",
       "      <td>0</td>\n",
       "      <td>Organic Celery Hearts</td>\n",
       "      <td>83</td>\n",
       "      <td>4</td>\n",
       "    </tr>\n",
       "    <tr>\n",
       "      <th>2</th>\n",
       "      <td>1</td>\n",
       "      <td>49683</td>\n",
       "      <td>4</td>\n",
       "      <td>0</td>\n",
       "      <td>Cucumber Kirby</td>\n",
       "      <td>83</td>\n",
       "      <td>4</td>\n",
       "    </tr>\n",
       "    <tr>\n",
       "      <th>3</th>\n",
       "      <td>1</td>\n",
       "      <td>43633</td>\n",
       "      <td>5</td>\n",
       "      <td>1</td>\n",
       "      <td>Lightly Smoked Sardines in Olive Oil</td>\n",
       "      <td>95</td>\n",
       "      <td>15</td>\n",
       "    </tr>\n",
       "    <tr>\n",
       "      <th>4</th>\n",
       "      <td>1</td>\n",
       "      <td>13176</td>\n",
       "      <td>6</td>\n",
       "      <td>0</td>\n",
       "      <td>Bag of Organic Bananas</td>\n",
       "      <td>24</td>\n",
       "      <td>4</td>\n",
       "    </tr>\n",
       "  </tbody>\n",
       "</table>\n",
       "</div>"
      ],
      "text/plain": [
       "   order_id  product_id  add_to_cart_order  reordered  \\\n",
       "0         1       49302                  1          1   \n",
       "1         1       10246                  3          0   \n",
       "2         1       49683                  4          0   \n",
       "3         1       43633                  5          1   \n",
       "4         1       13176                  6          0   \n",
       "\n",
       "                           product_name  aisle_id  department_id  \n",
       "0                      Bulgarian Yogurt       120             16  \n",
       "1                 Organic Celery Hearts        83              4  \n",
       "2                        Cucumber Kirby        83              4  \n",
       "3  Lightly Smoked Sardines in Olive Oil        95             15  \n",
       "4                Bag of Organic Bananas        24              4  "
      ]
     },
     "execution_count": 146,
     "metadata": {},
     "output_type": "execute_result"
    }
   ],
   "source": [
    "prior_train_orders.head()"
   ]
  },
  {
   "cell_type": "code",
   "execution_count": 152,
   "id": "b76986d5",
   "metadata": {},
   "outputs": [],
   "source": [
    "#merge with aisle and department\n",
    "\n",
    "prior_train_orders = pd.merge(prior_train_orders, aisles, on='aisle_id', how='left')\n",
    "prior_train_orders = pd.merge(prior_train_orders,departments, on='department_id', how='left')\n"
   ]
  },
  {
   "cell_type": "code",
   "execution_count": 153,
   "id": "68db91ee",
   "metadata": {},
   "outputs": [
    {
     "data": {
      "text/html": [
       "<div>\n",
       "<style scoped>\n",
       "    .dataframe tbody tr th:only-of-type {\n",
       "        vertical-align: middle;\n",
       "    }\n",
       "\n",
       "    .dataframe tbody tr th {\n",
       "        vertical-align: top;\n",
       "    }\n",
       "\n",
       "    .dataframe thead th {\n",
       "        text-align: right;\n",
       "    }\n",
       "</style>\n",
       "<table border=\"1\" class=\"dataframe\">\n",
       "  <thead>\n",
       "    <tr style=\"text-align: right;\">\n",
       "      <th></th>\n",
       "      <th>order_id</th>\n",
       "      <th>product_id</th>\n",
       "      <th>add_to_cart_order</th>\n",
       "      <th>reordered</th>\n",
       "      <th>product_name</th>\n",
       "      <th>aisle_id</th>\n",
       "      <th>department_id</th>\n",
       "      <th>aisle</th>\n",
       "      <th>department</th>\n",
       "    </tr>\n",
       "  </thead>\n",
       "  <tbody>\n",
       "    <tr>\n",
       "      <th>0</th>\n",
       "      <td>1</td>\n",
       "      <td>49302</td>\n",
       "      <td>1</td>\n",
       "      <td>1</td>\n",
       "      <td>Bulgarian Yogurt</td>\n",
       "      <td>120</td>\n",
       "      <td>16</td>\n",
       "      <td>yogurt</td>\n",
       "      <td>dairy eggs</td>\n",
       "    </tr>\n",
       "    <tr>\n",
       "      <th>1</th>\n",
       "      <td>1</td>\n",
       "      <td>10246</td>\n",
       "      <td>3</td>\n",
       "      <td>0</td>\n",
       "      <td>Organic Celery Hearts</td>\n",
       "      <td>83</td>\n",
       "      <td>4</td>\n",
       "      <td>fresh vegetables</td>\n",
       "      <td>produce</td>\n",
       "    </tr>\n",
       "    <tr>\n",
       "      <th>2</th>\n",
       "      <td>1</td>\n",
       "      <td>49683</td>\n",
       "      <td>4</td>\n",
       "      <td>0</td>\n",
       "      <td>Cucumber Kirby</td>\n",
       "      <td>83</td>\n",
       "      <td>4</td>\n",
       "      <td>fresh vegetables</td>\n",
       "      <td>produce</td>\n",
       "    </tr>\n",
       "    <tr>\n",
       "      <th>3</th>\n",
       "      <td>1</td>\n",
       "      <td>43633</td>\n",
       "      <td>5</td>\n",
       "      <td>1</td>\n",
       "      <td>Lightly Smoked Sardines in Olive Oil</td>\n",
       "      <td>95</td>\n",
       "      <td>15</td>\n",
       "      <td>canned meat seafood</td>\n",
       "      <td>canned goods</td>\n",
       "    </tr>\n",
       "    <tr>\n",
       "      <th>4</th>\n",
       "      <td>1</td>\n",
       "      <td>13176</td>\n",
       "      <td>6</td>\n",
       "      <td>0</td>\n",
       "      <td>Bag of Organic Bananas</td>\n",
       "      <td>24</td>\n",
       "      <td>4</td>\n",
       "      <td>fresh fruits</td>\n",
       "      <td>produce</td>\n",
       "    </tr>\n",
       "  </tbody>\n",
       "</table>\n",
       "</div>"
      ],
      "text/plain": [
       "   order_id  product_id  add_to_cart_order  reordered  \\\n",
       "0         1       49302                  1          1   \n",
       "1         1       10246                  3          0   \n",
       "2         1       49683                  4          0   \n",
       "3         1       43633                  5          1   \n",
       "4         1       13176                  6          0   \n",
       "\n",
       "                           product_name  aisle_id  department_id  \\\n",
       "0                      Bulgarian Yogurt       120             16   \n",
       "1                 Organic Celery Hearts        83              4   \n",
       "2                        Cucumber Kirby        83              4   \n",
       "3  Lightly Smoked Sardines in Olive Oil        95             15   \n",
       "4                Bag of Organic Bananas        24              4   \n",
       "\n",
       "                 aisle    department  \n",
       "0               yogurt    dairy eggs  \n",
       "1     fresh vegetables       produce  \n",
       "2     fresh vegetables       produce  \n",
       "3  canned meat seafood  canned goods  \n",
       "4         fresh fruits       produce  "
      ]
     },
     "execution_count": 153,
     "metadata": {},
     "output_type": "execute_result"
    }
   ],
   "source": [
    "prior_train_orders.head(5)"
   ]
  },
  {
   "cell_type": "code",
   "execution_count": 154,
   "id": "aec5dc1c",
   "metadata": {},
   "outputs": [],
   "source": [
    "#Merging with dataframe orders\n",
    "prior_train_orders = pd.merge(prior_train_orders, orders, on='order_id',how='left').sort_values(by=['order_id'])"
   ]
  },
  {
   "cell_type": "code",
   "execution_count": 155,
   "id": "f4b7eb5a",
   "metadata": {},
   "outputs": [
    {
     "data": {
      "text/plain": [
       "prior    30356421\n",
       "train     1384617\n",
       "Name: eval_set, dtype: int64"
      ]
     },
     "execution_count": 155,
     "metadata": {},
     "output_type": "execute_result"
    }
   ],
   "source": [
    "prior_train_orders['eval_set'].value_counts()"
   ]
  },
  {
   "cell_type": "code",
   "execution_count": 156,
   "id": "0f6cb9ab",
   "metadata": {},
   "outputs": [
    {
     "data": {
      "text/html": [
       "<div>\n",
       "<style scoped>\n",
       "    .dataframe tbody tr th:only-of-type {\n",
       "        vertical-align: middle;\n",
       "    }\n",
       "\n",
       "    .dataframe tbody tr th {\n",
       "        vertical-align: top;\n",
       "    }\n",
       "\n",
       "    .dataframe thead th {\n",
       "        text-align: right;\n",
       "    }\n",
       "</style>\n",
       "<table border=\"1\" class=\"dataframe\">\n",
       "  <thead>\n",
       "    <tr style=\"text-align: right;\">\n",
       "      <th></th>\n",
       "      <th>user_id</th>\n",
       "      <th>order_id</th>\n",
       "      <th>product_id</th>\n",
       "      <th>aisle_id</th>\n",
       "      <th>department_id</th>\n",
       "      <th>add_to_cart_order</th>\n",
       "      <th>reordered</th>\n",
       "      <th>product_name</th>\n",
       "      <th>aisle</th>\n",
       "      <th>department</th>\n",
       "      <th>eval_set</th>\n",
       "      <th>order_number</th>\n",
       "      <th>order_dow</th>\n",
       "      <th>order_hour_of_day</th>\n",
       "      <th>days_since_prior_order</th>\n",
       "    </tr>\n",
       "  </thead>\n",
       "  <tbody>\n",
       "    <tr>\n",
       "      <th>0</th>\n",
       "      <td>112108.0</td>\n",
       "      <td>1</td>\n",
       "      <td>49302</td>\n",
       "      <td>120</td>\n",
       "      <td>16</td>\n",
       "      <td>1</td>\n",
       "      <td>1</td>\n",
       "      <td>Bulgarian Yogurt</td>\n",
       "      <td>yogurt</td>\n",
       "      <td>dairy eggs</td>\n",
       "      <td>train</td>\n",
       "      <td>4.0</td>\n",
       "      <td>4.0</td>\n",
       "      <td>10.0</td>\n",
       "      <td>9.0</td>\n",
       "    </tr>\n",
       "    <tr>\n",
       "      <th>1</th>\n",
       "      <td>112108.0</td>\n",
       "      <td>1</td>\n",
       "      <td>10246</td>\n",
       "      <td>83</td>\n",
       "      <td>4</td>\n",
       "      <td>3</td>\n",
       "      <td>0</td>\n",
       "      <td>Organic Celery Hearts</td>\n",
       "      <td>fresh vegetables</td>\n",
       "      <td>produce</td>\n",
       "      <td>train</td>\n",
       "      <td>4.0</td>\n",
       "      <td>4.0</td>\n",
       "      <td>10.0</td>\n",
       "      <td>9.0</td>\n",
       "    </tr>\n",
       "    <tr>\n",
       "      <th>2</th>\n",
       "      <td>112108.0</td>\n",
       "      <td>1</td>\n",
       "      <td>49683</td>\n",
       "      <td>83</td>\n",
       "      <td>4</td>\n",
       "      <td>4</td>\n",
       "      <td>0</td>\n",
       "      <td>Cucumber Kirby</td>\n",
       "      <td>fresh vegetables</td>\n",
       "      <td>produce</td>\n",
       "      <td>train</td>\n",
       "      <td>4.0</td>\n",
       "      <td>4.0</td>\n",
       "      <td>10.0</td>\n",
       "      <td>9.0</td>\n",
       "    </tr>\n",
       "    <tr>\n",
       "      <th>3</th>\n",
       "      <td>112108.0</td>\n",
       "      <td>1</td>\n",
       "      <td>43633</td>\n",
       "      <td>95</td>\n",
       "      <td>15</td>\n",
       "      <td>5</td>\n",
       "      <td>1</td>\n",
       "      <td>Lightly Smoked Sardines in Olive Oil</td>\n",
       "      <td>canned meat seafood</td>\n",
       "      <td>canned goods</td>\n",
       "      <td>train</td>\n",
       "      <td>4.0</td>\n",
       "      <td>4.0</td>\n",
       "      <td>10.0</td>\n",
       "      <td>9.0</td>\n",
       "    </tr>\n",
       "    <tr>\n",
       "      <th>4</th>\n",
       "      <td>112108.0</td>\n",
       "      <td>1</td>\n",
       "      <td>13176</td>\n",
       "      <td>24</td>\n",
       "      <td>4</td>\n",
       "      <td>6</td>\n",
       "      <td>0</td>\n",
       "      <td>Bag of Organic Bananas</td>\n",
       "      <td>fresh fruits</td>\n",
       "      <td>produce</td>\n",
       "      <td>train</td>\n",
       "      <td>4.0</td>\n",
       "      <td>4.0</td>\n",
       "      <td>10.0</td>\n",
       "      <td>9.0</td>\n",
       "    </tr>\n",
       "  </tbody>\n",
       "</table>\n",
       "</div>"
      ],
      "text/plain": [
       "    user_id  order_id  product_id  aisle_id  department_id  add_to_cart_order  \\\n",
       "0  112108.0         1       49302       120             16                  1   \n",
       "1  112108.0         1       10246        83              4                  3   \n",
       "2  112108.0         1       49683        83              4                  4   \n",
       "3  112108.0         1       43633        95             15                  5   \n",
       "4  112108.0         1       13176        24              4                  6   \n",
       "\n",
       "   reordered                          product_name                aisle  \\\n",
       "0          1                      Bulgarian Yogurt               yogurt   \n",
       "1          0                 Organic Celery Hearts     fresh vegetables   \n",
       "2          0                        Cucumber Kirby     fresh vegetables   \n",
       "3          1  Lightly Smoked Sardines in Olive Oil  canned meat seafood   \n",
       "4          0                Bag of Organic Bananas         fresh fruits   \n",
       "\n",
       "     department eval_set  order_number  order_dow  order_hour_of_day  \\\n",
       "0    dairy eggs    train           4.0        4.0               10.0   \n",
       "1       produce    train           4.0        4.0               10.0   \n",
       "2       produce    train           4.0        4.0               10.0   \n",
       "3  canned goods    train           4.0        4.0               10.0   \n",
       "4       produce    train           4.0        4.0               10.0   \n",
       "\n",
       "   days_since_prior_order  \n",
       "0                     9.0  \n",
       "1                     9.0  \n",
       "2                     9.0  \n",
       "3                     9.0  \n",
       "4                     9.0  "
      ]
     },
     "execution_count": 156,
     "metadata": {},
     "output_type": "execute_result"
    }
   ],
   "source": [
    "col_order = ['user_id','order_id','product_id','aisle_id','department_id','add_to_cart_order',\n",
    " 'reordered','product_name','aisle','department','eval_set','order_number','order_dow','order_hour_of_day','days_since_prior_order']\n",
    "\n",
    "prior_train_orders = prior_train_orders[col_order]\n",
    "prior_train_orders.head()"
   ]
  },
  {
   "cell_type": "markdown",
   "id": "0e6c08bf",
   "metadata": {},
   "source": [
    "### Exploratory data analysis using the merged dataframe prior_train_orders"
   ]
  },
  {
   "cell_type": "code",
   "execution_count": 62,
   "id": "89ce0289",
   "metadata": {},
   "outputs": [
    {
     "data": {
      "text/html": [
       "<div>\n",
       "<style scoped>\n",
       "    .dataframe tbody tr th:only-of-type {\n",
       "        vertical-align: middle;\n",
       "    }\n",
       "\n",
       "    .dataframe tbody tr th {\n",
       "        vertical-align: top;\n",
       "    }\n",
       "\n",
       "    .dataframe thead th {\n",
       "        text-align: right;\n",
       "    }\n",
       "</style>\n",
       "<table border=\"1\" class=\"dataframe\">\n",
       "  <thead>\n",
       "    <tr style=\"text-align: right;\">\n",
       "      <th></th>\n",
       "      <th>eval_set</th>\n",
       "      <th>count</th>\n",
       "      <th>sum</th>\n",
       "    </tr>\n",
       "  </thead>\n",
       "  <tbody>\n",
       "    <tr>\n",
       "      <th>0</th>\n",
       "      <td>prior</td>\n",
       "      <td>30356421</td>\n",
       "      <td>19126536</td>\n",
       "    </tr>\n",
       "    <tr>\n",
       "      <th>1</th>\n",
       "      <td>train</td>\n",
       "      <td>1384617</td>\n",
       "      <td>828824</td>\n",
       "    </tr>\n",
       "  </tbody>\n",
       "</table>\n",
       "</div>"
      ],
      "text/plain": [
       "  eval_set     count       sum\n",
       "0    prior  30356421  19126536\n",
       "1    train   1384617    828824"
      ]
     },
     "execution_count": 62,
     "metadata": {},
     "output_type": "execute_result"
    }
   ],
   "source": [
    "#Distribution of target Variable\n",
    "target_var= prior_train_orders.groupby(['eval_set'])['reordered'].aggregate(['count','sum']).reset_index()\n",
    "target_var"
   ]
  },
  {
   "cell_type": "code",
   "execution_count": 63,
   "id": "feeaea0b",
   "metadata": {},
   "outputs": [
    {
     "data": {
      "text/html": [
       "<div>\n",
       "<style scoped>\n",
       "    .dataframe tbody tr th:only-of-type {\n",
       "        vertical-align: middle;\n",
       "    }\n",
       "\n",
       "    .dataframe tbody tr th {\n",
       "        vertical-align: top;\n",
       "    }\n",
       "\n",
       "    .dataframe thead th {\n",
       "        text-align: right;\n",
       "    }\n",
       "</style>\n",
       "<table border=\"1\" class=\"dataframe\">\n",
       "  <thead>\n",
       "    <tr style=\"text-align: right;\">\n",
       "      <th></th>\n",
       "      <th>eval_set</th>\n",
       "      <th>count</th>\n",
       "      <th>sum</th>\n",
       "      <th>reordered_percentage</th>\n",
       "    </tr>\n",
       "  </thead>\n",
       "  <tbody>\n",
       "    <tr>\n",
       "      <th>0</th>\n",
       "      <td>prior</td>\n",
       "      <td>30356421</td>\n",
       "      <td>19126536</td>\n",
       "      <td>0.630066</td>\n",
       "    </tr>\n",
       "    <tr>\n",
       "      <th>1</th>\n",
       "      <td>train</td>\n",
       "      <td>1384617</td>\n",
       "      <td>828824</td>\n",
       "      <td>0.598594</td>\n",
       "    </tr>\n",
       "  </tbody>\n",
       "</table>\n",
       "</div>"
      ],
      "text/plain": [
       "  eval_set     count       sum  reordered_percentage\n",
       "0    prior  30356421  19126536              0.630066\n",
       "1    train   1384617    828824              0.598594"
      ]
     },
     "execution_count": 63,
     "metadata": {},
     "output_type": "execute_result"
    }
   ],
   "source": [
    "target_var['reordered_percentage']= target_var['sum']/target_var['count']\n",
    "target_var"
   ]
  },
  {
   "cell_type": "code",
   "execution_count": 65,
   "id": "949c0fdf",
   "metadata": {},
   "outputs": [
    {
     "data": {
      "text/plain": [
       "<AxesSubplot:xlabel='eval_set', ylabel='reordered_percentage'>"
      ]
     },
     "execution_count": 65,
     "metadata": {},
     "output_type": "execute_result"
    },
    {
     "data": {
      "image/png": "[encoded data removed]",
      "text/plain": [
       "<Figure size 432x288 with 1 Axes>"
      ]
     },
     "metadata": {},
     "output_type": "display_data"
    }
   ],
   "source": [
    "sns.barplot(x='eval_set', y='reordered_percentage' , data=target_var)"
   ]
  },
  {
   "cell_type": "code",
   "execution_count": null,
   "id": "e5bbc9d3",
   "metadata": {},
   "outputs": [],
   "source": [
    "#How many orders were placed by every user"
   ]
  },
  {
   "cell_type": "code",
   "execution_count": 70,
   "id": "46a8d4cc",
   "metadata": {},
   "outputs": [
    {
     "data": {
      "text/html": [
       "<div>\n",
       "<style scoped>\n",
       "    .dataframe tbody tr th:only-of-type {\n",
       "        vertical-align: middle;\n",
       "    }\n",
       "\n",
       "    .dataframe tbody tr th {\n",
       "        vertical-align: top;\n",
       "    }\n",
       "\n",
       "    .dataframe thead th {\n",
       "        text-align: right;\n",
       "    }\n",
       "</style>\n",
       "<table border=\"1\" class=\"dataframe\">\n",
       "  <thead>\n",
       "    <tr style=\"text-align: right;\">\n",
       "      <th></th>\n",
       "      <th>user_id</th>\n",
       "      <th>order_id</th>\n",
       "    </tr>\n",
       "  </thead>\n",
       "  <tbody>\n",
       "    <tr>\n",
       "      <th>0</th>\n",
       "      <td>1</td>\n",
       "      <td>10</td>\n",
       "    </tr>\n",
       "    <tr>\n",
       "      <th>1</th>\n",
       "      <td>2</td>\n",
       "      <td>14</td>\n",
       "    </tr>\n",
       "    <tr>\n",
       "      <th>2</th>\n",
       "      <td>3</td>\n",
       "      <td>12</td>\n",
       "    </tr>\n",
       "    <tr>\n",
       "      <th>3</th>\n",
       "      <td>4</td>\n",
       "      <td>5</td>\n",
       "    </tr>\n",
       "    <tr>\n",
       "      <th>4</th>\n",
       "      <td>5</td>\n",
       "      <td>4</td>\n",
       "    </tr>\n",
       "    <tr>\n",
       "      <th>...</th>\n",
       "      <td>...</td>\n",
       "      <td>...</td>\n",
       "    </tr>\n",
       "    <tr>\n",
       "      <th>206204</th>\n",
       "      <td>206205</td>\n",
       "      <td>3</td>\n",
       "    </tr>\n",
       "    <tr>\n",
       "      <th>206205</th>\n",
       "      <td>206206</td>\n",
       "      <td>67</td>\n",
       "    </tr>\n",
       "    <tr>\n",
       "      <th>206206</th>\n",
       "      <td>206207</td>\n",
       "      <td>16</td>\n",
       "    </tr>\n",
       "    <tr>\n",
       "      <th>206207</th>\n",
       "      <td>206208</td>\n",
       "      <td>49</td>\n",
       "    </tr>\n",
       "    <tr>\n",
       "      <th>206208</th>\n",
       "      <td>206209</td>\n",
       "      <td>13</td>\n",
       "    </tr>\n",
       "  </tbody>\n",
       "</table>\n",
       "<p>206209 rows × 2 columns</p>\n",
       "</div>"
      ],
      "text/plain": [
       "        user_id  order_id\n",
       "0             1        10\n",
       "1             2        14\n",
       "2             3        12\n",
       "3             4         5\n",
       "4             5         4\n",
       "...         ...       ...\n",
       "206204   206205         3\n",
       "206205   206206        67\n",
       "206206   206207        16\n",
       "206207   206208        49\n",
       "206208   206209        13\n",
       "\n",
       "[206209 rows x 2 columns]"
      ]
     },
     "execution_count": 70,
     "metadata": {},
     "output_type": "execute_result"
    }
   ],
   "source": [
    "orders_per_user= orders.groupby(['user_id']) ['order_id'].aggregate(lambda group : len(group.unique())).reset_index()\n",
    "orders_per_user\n",
    "#here order_id represents - unique number of orders for each user. we will plot this in a bar plot."
   ]
  },
  {
   "cell_type": "code",
   "execution_count": 91,
   "id": "35fc2ff7",
   "metadata": {},
   "outputs": [
    {
     "data": {
      "text/plain": [
       "(array([ 0,  1,  2,  3,  4,  5,  6,  7,  8,  9, 10, 11, 12, 13, 14, 15, 16,\n",
       "        17, 18, 19, 20, 21, 22, 23, 24, 25, 26, 27, 28, 29, 30, 31, 32, 33,\n",
       "        34, 35, 36, 37, 38, 39, 40, 41, 42, 43, 44, 45, 46, 47, 48, 49, 50,\n",
       "        51, 52, 53, 54, 55, 56, 57, 58, 59, 60, 61, 62, 63, 64, 65, 66, 67,\n",
       "        68, 69, 70, 71, 72, 73, 74, 75, 76, 77, 78, 79, 80, 81, 82, 83, 84,\n",
       "        85, 86, 87, 88, 89, 90, 91, 92, 93, 94, 95, 96]),\n",
       " [Text(0, 0, '3'),\n",
       "  Text(1, 0, '4'),\n",
       "  Text(2, 0, '5'),\n",
       "  Text(3, 0, '6'),\n",
       "  Text(4, 0, '7'),\n",
       "  Text(5, 0, '8'),\n",
       "  Text(6, 0, '9'),\n",
       "  Text(7, 0, '10'),\n",
       "  Text(8, 0, '11'),\n",
       "  Text(9, 0, '12'),\n",
       "  Text(10, 0, '13'),\n",
       "  Text(11, 0, '14'),\n",
       "  Text(12, 0, '15'),\n",
       "  Text(13, 0, '16'),\n",
       "  Text(14, 0, '17'),\n",
       "  Text(15, 0, '18'),\n",
       "  Text(16, 0, '19'),\n",
       "  Text(17, 0, '20'),\n",
       "  Text(18, 0, '21'),\n",
       "  Text(19, 0, '22'),\n",
       "  Text(20, 0, '23'),\n",
       "  Text(21, 0, '24'),\n",
       "  Text(22, 0, '25'),\n",
       "  Text(23, 0, '26'),\n",
       "  Text(24, 0, '27'),\n",
       "  Text(25, 0, '28'),\n",
       "  Text(26, 0, '29'),\n",
       "  Text(27, 0, '30'),\n",
       "  Text(28, 0, '31'),\n",
       "  Text(29, 0, '32'),\n",
       "  Text(30, 0, '33'),\n",
       "  Text(31, 0, '34'),\n",
       "  Text(32, 0, '35'),\n",
       "  Text(33, 0, '36'),\n",
       "  Text(34, 0, '37'),\n",
       "  Text(35, 0, '38'),\n",
       "  Text(36, 0, '39'),\n",
       "  Text(37, 0, '40'),\n",
       "  Text(38, 0, '41'),\n",
       "  Text(39, 0, '42'),\n",
       "  Text(40, 0, '43'),\n",
       "  Text(41, 0, '44'),\n",
       "  Text(42, 0, '45'),\n",
       "  Text(43, 0, '46'),\n",
       "  Text(44, 0, '47'),\n",
       "  Text(45, 0, '48'),\n",
       "  Text(46, 0, '49'),\n",
       "  Text(47, 0, '50'),\n",
       "  Text(48, 0, '51'),\n",
       "  Text(49, 0, '52'),\n",
       "  Text(50, 0, '53'),\n",
       "  Text(51, 0, '54'),\n",
       "  Text(52, 0, '55'),\n",
       "  Text(53, 0, '56'),\n",
       "  Text(54, 0, '57'),\n",
       "  Text(55, 0, '58'),\n",
       "  Text(56, 0, '59'),\n",
       "  Text(57, 0, '60'),\n",
       "  Text(58, 0, '61'),\n",
       "  Text(59, 0, '62'),\n",
       "  Text(60, 0, '63'),\n",
       "  Text(61, 0, '64'),\n",
       "  Text(62, 0, '65'),\n",
       "  Text(63, 0, '66'),\n",
       "  Text(64, 0, '67'),\n",
       "  Text(65, 0, '68'),\n",
       "  Text(66, 0, '69'),\n",
       "  Text(67, 0, '70'),\n",
       "  Text(68, 0, '71'),\n",
       "  Text(69, 0, '72'),\n",
       "  Text(70, 0, '73'),\n",
       "  Text(71, 0, '74'),\n",
       "  Text(72, 0, '75'),\n",
       "  Text(73, 0, '76'),\n",
       "  Text(74, 0, '77'),\n",
       "  Text(75, 0, '78'),\n",
       "  Text(76, 0, '79'),\n",
       "  Text(77, 0, '80'),\n",
       "  Text(78, 0, '81'),\n",
       "  Text(79, 0, '82'),\n",
       "  Text(80, 0, '83'),\n",
       "  Text(81, 0, '84'),\n",
       "  Text(82, 0, '85'),\n",
       "  Text(83, 0, '86'),\n",
       "  Text(84, 0, '87'),\n",
       "  Text(85, 0, '88'),\n",
       "  Text(86, 0, '89'),\n",
       "  Text(87, 0, '90'),\n",
       "  Text(88, 0, '91'),\n",
       "  Text(89, 0, '92'),\n",
       "  Text(90, 0, '93'),\n",
       "  Text(91, 0, '94'),\n",
       "  Text(92, 0, '95'),\n",
       "  Text(93, 0, '96'),\n",
       "  Text(94, 0, '97'),\n",
       "  Text(95, 0, '98'),\n",
       "  Text(96, 0, '99')])"
      ]
     },
     "execution_count": 91,
     "metadata": {},
     "output_type": "execute_result"
    },
    {
     "data": {
      "image/png": "[encoded data removed]",
      "text/plain": [
       "<Figure size 2160x1080 with 1 Axes>"
      ]
     },
     "metadata": {},
     "output_type": "display_data"
    }
   ],
   "source": [
    "plt.figure(figsize=(30,15))\n",
    "sns.countplot(x='order_id',data=orders_per_user)\n",
    "plt.xticks(rotation='vertical')"
   ]
  },
  {
   "cell_type": "markdown",
   "id": "203bf5f3",
   "metadata": {},
   "source": [
    "From the graph above we can see that number of orders per user are between 4-100. and very few users have places more than 60 orders."
   ]
  },
  {
   "cell_type": "code",
   "execution_count": null,
   "id": "48a7eac0",
   "metadata": {},
   "outputs": [],
   "source": [
    "#most frequently ordered / reordered products"
   ]
  },
  {
   "cell_type": "code",
   "execution_count": 85,
   "id": "5251c248",
   "metadata": {},
   "outputs": [
    {
     "data": {
      "text/html": [
       "<div>\n",
       "<style scoped>\n",
       "    .dataframe tbody tr th:only-of-type {\n",
       "        vertical-align: middle;\n",
       "    }\n",
       "\n",
       "    .dataframe tbody tr th {\n",
       "        vertical-align: top;\n",
       "    }\n",
       "\n",
       "    .dataframe thead th {\n",
       "        text-align: right;\n",
       "    }\n",
       "</style>\n",
       "<table border=\"1\" class=\"dataframe\">\n",
       "  <thead>\n",
       "    <tr style=\"text-align: right;\">\n",
       "      <th></th>\n",
       "      <th>product_name</th>\n",
       "      <th>frequency</th>\n",
       "    </tr>\n",
       "  </thead>\n",
       "  <tbody>\n",
       "    <tr>\n",
       "      <th>0</th>\n",
       "      <td>Banana</td>\n",
       "      <td>491291</td>\n",
       "    </tr>\n",
       "    <tr>\n",
       "      <th>1</th>\n",
       "      <td>Bag of Organic Bananas</td>\n",
       "      <td>394930</td>\n",
       "    </tr>\n",
       "    <tr>\n",
       "      <th>2</th>\n",
       "      <td>Organic Strawberries</td>\n",
       "      <td>275577</td>\n",
       "    </tr>\n",
       "    <tr>\n",
       "      <th>3</th>\n",
       "      <td>Organic Baby Spinach</td>\n",
       "      <td>251705</td>\n",
       "    </tr>\n",
       "    <tr>\n",
       "      <th>4</th>\n",
       "      <td>Organic Hass Avocado</td>\n",
       "      <td>220877</td>\n",
       "    </tr>\n",
       "    <tr>\n",
       "      <th>5</th>\n",
       "      <td>Organic Avocado</td>\n",
       "      <td>184224</td>\n",
       "    </tr>\n",
       "    <tr>\n",
       "      <th>6</th>\n",
       "      <td>Large Lemon</td>\n",
       "      <td>160792</td>\n",
       "    </tr>\n",
       "    <tr>\n",
       "      <th>7</th>\n",
       "      <td>Strawberries</td>\n",
       "      <td>149445</td>\n",
       "    </tr>\n",
       "    <tr>\n",
       "      <th>8</th>\n",
       "      <td>Limes</td>\n",
       "      <td>146660</td>\n",
       "    </tr>\n",
       "    <tr>\n",
       "      <th>9</th>\n",
       "      <td>Organic Whole Milk</td>\n",
       "      <td>142813</td>\n",
       "    </tr>\n",
       "    <tr>\n",
       "      <th>10</th>\n",
       "      <td>Organic Raspberries</td>\n",
       "      <td>142603</td>\n",
       "    </tr>\n",
       "    <tr>\n",
       "      <th>11</th>\n",
       "      <td>Organic Yellow Onion</td>\n",
       "      <td>117716</td>\n",
       "    </tr>\n",
       "    <tr>\n",
       "      <th>12</th>\n",
       "      <td>Organic Garlic</td>\n",
       "      <td>113936</td>\n",
       "    </tr>\n",
       "    <tr>\n",
       "      <th>13</th>\n",
       "      <td>Organic Zucchini</td>\n",
       "      <td>109412</td>\n",
       "    </tr>\n",
       "    <tr>\n",
       "      <th>14</th>\n",
       "      <td>Organic Blueberries</td>\n",
       "      <td>105026</td>\n",
       "    </tr>\n",
       "    <tr>\n",
       "      <th>15</th>\n",
       "      <td>Cucumber Kirby</td>\n",
       "      <td>99728</td>\n",
       "    </tr>\n",
       "    <tr>\n",
       "      <th>16</th>\n",
       "      <td>Organic Fuji Apple</td>\n",
       "      <td>92889</td>\n",
       "    </tr>\n",
       "    <tr>\n",
       "      <th>17</th>\n",
       "      <td>Organic Lemon</td>\n",
       "      <td>91251</td>\n",
       "    </tr>\n",
       "    <tr>\n",
       "      <th>18</th>\n",
       "      <td>Organic Grape Tomatoes</td>\n",
       "      <td>88078</td>\n",
       "    </tr>\n",
       "    <tr>\n",
       "      <th>19</th>\n",
       "      <td>Apple Honeycrisp Organic</td>\n",
       "      <td>87272</td>\n",
       "    </tr>\n",
       "  </tbody>\n",
       "</table>\n",
       "</div>"
      ],
      "text/plain": [
       "                product_name  frequency\n",
       "0                     Banana     491291\n",
       "1     Bag of Organic Bananas     394930\n",
       "2       Organic Strawberries     275577\n",
       "3       Organic Baby Spinach     251705\n",
       "4       Organic Hass Avocado     220877\n",
       "5            Organic Avocado     184224\n",
       "6                Large Lemon     160792\n",
       "7               Strawberries     149445\n",
       "8                      Limes     146660\n",
       "9         Organic Whole Milk     142813\n",
       "10       Organic Raspberries     142603\n",
       "11      Organic Yellow Onion     117716\n",
       "12            Organic Garlic     113936\n",
       "13          Organic Zucchini     109412\n",
       "14       Organic Blueberries     105026\n",
       "15            Cucumber Kirby      99728\n",
       "16        Organic Fuji Apple      92889\n",
       "17             Organic Lemon      91251\n",
       "18    Organic Grape Tomatoes      88078\n",
       "19  Apple Honeycrisp Organic      87272"
      ]
     },
     "execution_count": 85,
     "metadata": {},
     "output_type": "execute_result"
    }
   ],
   "source": [
    "reordered_products=prior_train_orders['product_name'].value_counts().reset_index().head(20)\n",
    "reordered_products.columns=['product_name','frequency']\n",
    "reordered_products"
   ]
  },
  {
   "cell_type": "code",
   "execution_count": 90,
   "id": "f9710613",
   "metadata": {},
   "outputs": [
    {
     "data": {
      "text/plain": [
       "(array([ 0,  1,  2,  3,  4,  5,  6,  7,  8,  9, 10, 11, 12, 13, 14, 15, 16,\n",
       "        17, 18, 19]),\n",
       " [Text(0, 0, 'Banana'),\n",
       "  Text(1, 0, 'Bag of Organic Bananas'),\n",
       "  Text(2, 0, 'Organic Strawberries'),\n",
       "  Text(3, 0, 'Organic Baby Spinach'),\n",
       "  Text(4, 0, 'Organic Hass Avocado'),\n",
       "  Text(5, 0, 'Organic Avocado'),\n",
       "  Text(6, 0, 'Large Lemon'),\n",
       "  Text(7, 0, 'Strawberries'),\n",
       "  Text(8, 0, 'Limes'),\n",
       "  Text(9, 0, 'Organic Whole Milk'),\n",
       "  Text(10, 0, 'Organic Raspberries'),\n",
       "  Text(11, 0, 'Organic Yellow Onion'),\n",
       "  Text(12, 0, 'Organic Garlic'),\n",
       "  Text(13, 0, 'Organic Zucchini'),\n",
       "  Text(14, 0, 'Organic Blueberries'),\n",
       "  Text(15, 0, 'Cucumber Kirby'),\n",
       "  Text(16, 0, 'Organic Fuji Apple'),\n",
       "  Text(17, 0, 'Organic Lemon'),\n",
       "  Text(18, 0, 'Organic Grape Tomatoes'),\n",
       "  Text(19, 0, 'Apple Honeycrisp Organic')])"
      ]
     },
     "execution_count": 90,
     "metadata": {},
     "output_type": "execute_result"
    },
    {
     "data": {
      "image/png": "[encoded data removed]",
      "text/plain": [
       "<Figure size 1440x720 with 1 Axes>"
      ]
     },
     "metadata": {},
     "output_type": "display_data"
    }
   ],
   "source": [
    "plt.figure(figsize=(20,10))\n",
    "sns.barplot(x='product_name',y='frequency',data=reordered_products)\n",
    "plt.xticks(rotation='vertical')"
   ]
  },
  {
   "cell_type": "code",
   "execution_count": null,
   "id": "4744f613",
   "metadata": {},
   "outputs": [],
   "source": [
    "#From which aisle we got most orders/reorders"
   ]
  },
  {
   "cell_type": "code",
   "execution_count": 93,
   "id": "e852071a",
   "metadata": {},
   "outputs": [
    {
     "data": {
      "text/html": [
       "<div>\n",
       "<style scoped>\n",
       "    .dataframe tbody tr th:only-of-type {\n",
       "        vertical-align: middle;\n",
       "    }\n",
       "\n",
       "    .dataframe tbody tr th {\n",
       "        vertical-align: top;\n",
       "    }\n",
       "\n",
       "    .dataframe thead th {\n",
       "        text-align: right;\n",
       "    }\n",
       "</style>\n",
       "<table border=\"1\" class=\"dataframe\">\n",
       "  <thead>\n",
       "    <tr style=\"text-align: right;\">\n",
       "      <th></th>\n",
       "      <th>aisle_name</th>\n",
       "      <th>no_of_products_ordered</th>\n",
       "    </tr>\n",
       "  </thead>\n",
       "  <tbody>\n",
       "    <tr>\n",
       "      <th>0</th>\n",
       "      <td>fresh fruits</td>\n",
       "      <td>3792661</td>\n",
       "    </tr>\n",
       "    <tr>\n",
       "      <th>1</th>\n",
       "      <td>fresh vegetables</td>\n",
       "      <td>3568630</td>\n",
       "    </tr>\n",
       "    <tr>\n",
       "      <th>2</th>\n",
       "      <td>packaged vegetables fruits</td>\n",
       "      <td>1843806</td>\n",
       "    </tr>\n",
       "    <tr>\n",
       "      <th>3</th>\n",
       "      <td>yogurt</td>\n",
       "      <td>1507583</td>\n",
       "    </tr>\n",
       "    <tr>\n",
       "      <th>4</th>\n",
       "      <td>packaged cheese</td>\n",
       "      <td>1021462</td>\n",
       "    </tr>\n",
       "    <tr>\n",
       "      <th>5</th>\n",
       "      <td>milk</td>\n",
       "      <td>923659</td>\n",
       "    </tr>\n",
       "    <tr>\n",
       "      <th>6</th>\n",
       "      <td>water seltzer sparkling water</td>\n",
       "      <td>878150</td>\n",
       "    </tr>\n",
       "    <tr>\n",
       "      <th>7</th>\n",
       "      <td>chips pretzels</td>\n",
       "      <td>753739</td>\n",
       "    </tr>\n",
       "    <tr>\n",
       "      <th>8</th>\n",
       "      <td>soy lactosefree</td>\n",
       "      <td>664493</td>\n",
       "    </tr>\n",
       "    <tr>\n",
       "      <th>9</th>\n",
       "      <td>bread</td>\n",
       "      <td>608469</td>\n",
       "    </tr>\n",
       "    <tr>\n",
       "      <th>10</th>\n",
       "      <td>refrigerated</td>\n",
       "      <td>599109</td>\n",
       "    </tr>\n",
       "    <tr>\n",
       "      <th>11</th>\n",
       "      <td>frozen produce</td>\n",
       "      <td>545107</td>\n",
       "    </tr>\n",
       "    <tr>\n",
       "      <th>12</th>\n",
       "      <td>ice cream ice</td>\n",
       "      <td>521101</td>\n",
       "    </tr>\n",
       "    <tr>\n",
       "      <th>13</th>\n",
       "      <td>crackers</td>\n",
       "      <td>478430</td>\n",
       "    </tr>\n",
       "    <tr>\n",
       "      <th>14</th>\n",
       "      <td>energy granola bars</td>\n",
       "      <td>473835</td>\n",
       "    </tr>\n",
       "    <tr>\n",
       "      <th>15</th>\n",
       "      <td>eggs</td>\n",
       "      <td>472009</td>\n",
       "    </tr>\n",
       "    <tr>\n",
       "      <th>16</th>\n",
       "      <td>lunch meat</td>\n",
       "      <td>412087</td>\n",
       "    </tr>\n",
       "    <tr>\n",
       "      <th>17</th>\n",
       "      <td>frozen meals</td>\n",
       "      <td>408520</td>\n",
       "    </tr>\n",
       "    <tr>\n",
       "      <th>18</th>\n",
       "      <td>baby food formula</td>\n",
       "      <td>395654</td>\n",
       "    </tr>\n",
       "    <tr>\n",
       "      <th>19</th>\n",
       "      <td>fresh herbs</td>\n",
       "      <td>393793</td>\n",
       "    </tr>\n",
       "  </tbody>\n",
       "</table>\n",
       "</div>"
      ],
      "text/plain": [
       "                       aisle_name  no_of_products_ordered\n",
       "0                    fresh fruits                 3792661\n",
       "1                fresh vegetables                 3568630\n",
       "2      packaged vegetables fruits                 1843806\n",
       "3                          yogurt                 1507583\n",
       "4                 packaged cheese                 1021462\n",
       "5                            milk                  923659\n",
       "6   water seltzer sparkling water                  878150\n",
       "7                  chips pretzels                  753739\n",
       "8                 soy lactosefree                  664493\n",
       "9                           bread                  608469\n",
       "10                   refrigerated                  599109\n",
       "11                 frozen produce                  545107\n",
       "12                  ice cream ice                  521101\n",
       "13                       crackers                  478430\n",
       "14            energy granola bars                  473835\n",
       "15                           eggs                  472009\n",
       "16                     lunch meat                  412087\n",
       "17                   frozen meals                  408520\n",
       "18              baby food formula                  395654\n",
       "19                    fresh herbs                  393793"
      ]
     },
     "execution_count": 93,
     "metadata": {},
     "output_type": "execute_result"
    }
   ],
   "source": [
    "ordered_aisles=prior_train_orders['aisle'].value_counts().reset_index().head(20)\n",
    "ordered_aisles.columns=['aisle_name','no_of_products_ordered']\n",
    "ordered_aisles"
   ]
  },
  {
   "cell_type": "code",
   "execution_count": 96,
   "id": "e1d9ecd4",
   "metadata": {},
   "outputs": [
    {
     "data": {
      "text/plain": [
       "(array([ 0,  1,  2,  3,  4,  5,  6,  7,  8,  9, 10, 11, 12, 13, 14, 15, 16,\n",
       "        17, 18, 19]),\n",
       " [Text(0, 0, 'fresh fruits'),\n",
       "  Text(1, 0, 'fresh vegetables'),\n",
       "  Text(2, 0, 'packaged vegetables fruits'),\n",
       "  Text(3, 0, 'yogurt'),\n",
       "  Text(4, 0, 'packaged cheese'),\n",
       "  Text(5, 0, 'milk'),\n",
       "  Text(6, 0, 'water seltzer sparkling water'),\n",
       "  Text(7, 0, 'chips pretzels'),\n",
       "  Text(8, 0, 'soy lactosefree'),\n",
       "  Text(9, 0, 'bread'),\n",
       "  Text(10, 0, 'refrigerated'),\n",
       "  Text(11, 0, 'frozen produce'),\n",
       "  Text(12, 0, 'ice cream ice'),\n",
       "  Text(13, 0, 'crackers'),\n",
       "  Text(14, 0, 'energy granola bars'),\n",
       "  Text(15, 0, 'eggs'),\n",
       "  Text(16, 0, 'lunch meat'),\n",
       "  Text(17, 0, 'frozen meals'),\n",
       "  Text(18, 0, 'baby food formula'),\n",
       "  Text(19, 0, 'fresh herbs')])"
      ]
     },
     "execution_count": 96,
     "metadata": {},
     "output_type": "execute_result"
    },
    {
     "data": {
      "image/png": "[encoded data removed]",
      "text/plain": [
       "<Figure size 1440x720 with 1 Axes>"
      ]
     },
     "metadata": {},
     "output_type": "display_data"
    }
   ],
   "source": [
    "plt.figure(figsize=(20,10))\n",
    "sns.barplot(x='aisle_name',y='no_of_products_ordered',data=ordered_aisles)\n",
    "plt.xticks(rotation='vertical')"
   ]
  },
  {
   "cell_type": "code",
   "execution_count": null,
   "id": "c97575dc",
   "metadata": {},
   "outputs": [],
   "source": []
  },
  {
   "cell_type": "code",
   "execution_count": 127,
   "id": "71182fa7",
   "metadata": {},
   "outputs": [],
   "source": [
    "reordered_aisles=prior_train_orders.groupby(['aisle'])['reordered'].aggregate('sum').sort_values(ascending=False).reset_index().head(20)\n",
    "reordered_aisles.columns=['aisle_name','no_of_products_reordered']\n"
   ]
  },
  {
   "cell_type": "code",
   "execution_count": 116,
   "id": "b710c2f4",
   "metadata": {},
   "outputs": [],
   "source": [
    "reordered_aisles['reordered_rate']= reordered_aisles['no_of_products_reordered']\n",
    "                                     /ordered_aisles['no_of_products_ordered']"
   ]
  },
  {
   "cell_type": "code",
   "execution_count": 124,
   "id": "279955b4",
   "metadata": {},
   "outputs": [
    {
     "data": {
      "text/html": [
       "<div>\n",
       "<style scoped>\n",
       "    .dataframe tbody tr th:only-of-type {\n",
       "        vertical-align: middle;\n",
       "    }\n",
       "\n",
       "    .dataframe tbody tr th {\n",
       "        vertical-align: top;\n",
       "    }\n",
       "\n",
       "    .dataframe thead th {\n",
       "        text-align: right;\n",
       "    }\n",
       "</style>\n",
       "<table border=\"1\" class=\"dataframe\">\n",
       "  <thead>\n",
       "    <tr style=\"text-align: right;\">\n",
       "      <th></th>\n",
       "      <th>aisle_name</th>\n",
       "      <th>no_of_products_reordered</th>\n",
       "      <th>reordered_rate</th>\n",
       "    </tr>\n",
       "  </thead>\n",
       "  <tbody>\n",
       "    <tr>\n",
       "      <th>0</th>\n",
       "      <td>fresh fruits</td>\n",
       "      <td>2726251</td>\n",
       "      <td>0.718823</td>\n",
       "    </tr>\n",
       "    <tr>\n",
       "      <th>4</th>\n",
       "      <td>milk</td>\n",
       "      <td>722128</td>\n",
       "      <td>0.706955</td>\n",
       "    </tr>\n",
       "    <tr>\n",
       "      <th>5</th>\n",
       "      <td>water seltzer sparkling water</td>\n",
       "      <td>640988</td>\n",
       "      <td>0.693966</td>\n",
       "    </tr>\n",
       "    <tr>\n",
       "      <th>3</th>\n",
       "      <td>yogurt</td>\n",
       "      <td>1034957</td>\n",
       "      <td>0.686501</td>\n",
       "    </tr>\n",
       "    <tr>\n",
       "      <th>6</th>\n",
       "      <td>packaged cheese</td>\n",
       "      <td>598280</td>\n",
       "      <td>0.681296</td>\n",
       "    </tr>\n",
       "    <tr>\n",
       "      <th>9</th>\n",
       "      <td>bread</td>\n",
       "      <td>408010</td>\n",
       "      <td>0.670552</td>\n",
       "    </tr>\n",
       "    <tr>\n",
       "      <th>8</th>\n",
       "      <td>chips pretzels</td>\n",
       "      <td>444036</td>\n",
       "      <td>0.668233</td>\n",
       "    </tr>\n",
       "    <tr>\n",
       "      <th>10</th>\n",
       "      <td>refrigerated</td>\n",
       "      <td>397213</td>\n",
       "      <td>0.663006</td>\n",
       "    </tr>\n",
       "    <tr>\n",
       "      <th>2</th>\n",
       "      <td>packaged vegetables fruits</td>\n",
       "      <td>1178700</td>\n",
       "      <td>0.639275</td>\n",
       "    </tr>\n",
       "    <tr>\n",
       "      <th>11</th>\n",
       "      <td>eggs</td>\n",
       "      <td>333408</td>\n",
       "      <td>0.611638</td>\n",
       "    </tr>\n",
       "    <tr>\n",
       "      <th>7</th>\n",
       "      <td>soy lactosefree</td>\n",
       "      <td>460069</td>\n",
       "      <td>0.610382</td>\n",
       "    </tr>\n",
       "    <tr>\n",
       "      <th>16</th>\n",
       "      <td>lunch meat</td>\n",
       "      <td>249963</td>\n",
       "      <td>0.606578</td>\n",
       "    </tr>\n",
       "    <tr>\n",
       "      <th>1</th>\n",
       "      <td>fresh vegetables</td>\n",
       "      <td>2123540</td>\n",
       "      <td>0.595057</td>\n",
       "    </tr>\n",
       "    <tr>\n",
       "      <th>13</th>\n",
       "      <td>energy granola bars</td>\n",
       "      <td>283351</td>\n",
       "      <td>0.592252</td>\n",
       "    </tr>\n",
       "    <tr>\n",
       "      <th>18</th>\n",
       "      <td>baby food formula</td>\n",
       "      <td>233042</td>\n",
       "      <td>0.589005</td>\n",
       "    </tr>\n",
       "    <tr>\n",
       "      <th>17</th>\n",
       "      <td>soft drinks</td>\n",
       "      <td>238981</td>\n",
       "      <td>0.584992</td>\n",
       "    </tr>\n",
       "    <tr>\n",
       "      <th>19</th>\n",
       "      <td>frozen meals</td>\n",
       "      <td>228222</td>\n",
       "      <td>0.579548</td>\n",
       "    </tr>\n",
       "    <tr>\n",
       "      <th>14</th>\n",
       "      <td>crackers</td>\n",
       "      <td>272645</td>\n",
       "      <td>0.575401</td>\n",
       "    </tr>\n",
       "    <tr>\n",
       "      <th>12</th>\n",
       "      <td>frozen produce</td>\n",
       "      <td>295616</td>\n",
       "      <td>0.567291</td>\n",
       "    </tr>\n",
       "    <tr>\n",
       "      <th>15</th>\n",
       "      <td>ice cream ice</td>\n",
       "      <td>256194</td>\n",
       "      <td>0.542774</td>\n",
       "    </tr>\n",
       "  </tbody>\n",
       "</table>\n",
       "</div>"
      ],
      "text/plain": [
       "                       aisle_name  no_of_products_reordered  reordered_rate\n",
       "0                    fresh fruits                   2726251        0.718823\n",
       "4                            milk                    722128        0.706955\n",
       "5   water seltzer sparkling water                    640988        0.693966\n",
       "3                          yogurt                   1034957        0.686501\n",
       "6                 packaged cheese                    598280        0.681296\n",
       "9                           bread                    408010        0.670552\n",
       "8                  chips pretzels                    444036        0.668233\n",
       "10                   refrigerated                    397213        0.663006\n",
       "2      packaged vegetables fruits                   1178700        0.639275\n",
       "11                           eggs                    333408        0.611638\n",
       "7                 soy lactosefree                    460069        0.610382\n",
       "16                     lunch meat                    249963        0.606578\n",
       "1                fresh vegetables                   2123540        0.595057\n",
       "13            energy granola bars                    283351        0.592252\n",
       "18              baby food formula                    233042        0.589005\n",
       "17                    soft drinks                    238981        0.584992\n",
       "19                   frozen meals                    228222        0.579548\n",
       "14                       crackers                    272645        0.575401\n",
       "12                 frozen produce                    295616        0.567291\n",
       "15                  ice cream ice                    256194        0.542774"
      ]
     },
     "execution_count": 124,
     "metadata": {},
     "output_type": "execute_result"
    }
   ],
   "source": [
    "reordered_aisles.sort_values(by=['reordered_rate'], ascending=False, inplace=True)\n",
    "reordered_aisles"
   ]
  },
  {
   "cell_type": "code",
   "execution_count": 126,
   "id": "c297324d",
   "metadata": {},
   "outputs": [
    {
     "data": {
      "text/plain": [
       "(array([ 0,  1,  2,  3,  4,  5,  6,  7,  8,  9, 10, 11, 12, 13, 14, 15, 16,\n",
       "        17, 18, 19]),\n",
       " [Text(0, 0, 'fresh fruits'),\n",
       "  Text(1, 0, 'milk'),\n",
       "  Text(2, 0, 'water seltzer sparkling water'),\n",
       "  Text(3, 0, 'yogurt'),\n",
       "  Text(4, 0, 'packaged cheese'),\n",
       "  Text(5, 0, 'bread'),\n",
       "  Text(6, 0, 'chips pretzels'),\n",
       "  Text(7, 0, 'refrigerated'),\n",
       "  Text(8, 0, 'packaged vegetables fruits'),\n",
       "  Text(9, 0, 'eggs'),\n",
       "  Text(10, 0, 'soy lactosefree'),\n",
       "  Text(11, 0, 'lunch meat'),\n",
       "  Text(12, 0, 'fresh vegetables'),\n",
       "  Text(13, 0, 'energy granola bars'),\n",
       "  Text(14, 0, 'baby food formula'),\n",
       "  Text(15, 0, 'soft drinks'),\n",
       "  Text(16, 0, 'frozen meals'),\n",
       "  Text(17, 0, 'crackers'),\n",
       "  Text(18, 0, 'frozen produce'),\n",
       "  Text(19, 0, 'ice cream ice')])"
      ]
     },
     "execution_count": 126,
     "metadata": {},
     "output_type": "execute_result"
    },
    {
     "data": {
      "image/png": "[encoded data removed]",
      "text/plain": [
       "<Figure size 1440x720 with 1 Axes>"
      ]
     },
     "metadata": {},
     "output_type": "display_data"
    }
   ],
   "source": [
    "plt.figure(figsize=(20,10))\n",
    "sns.barplot(x='aisle_name',y='reordered_rate',data=reordered_aisles, alpha=0.7)\n",
    "plt.xticks(rotation='vertical')"
   ]
  },
  {
   "cell_type": "markdown",
   "id": "f493eafa",
   "metadata": {},
   "source": [
    "**Most reorderes were placed from aisles Fresh fruits, milk, water etc.**"
   ]
  },
  {
   "cell_type": "code",
   "execution_count": null,
   "id": "4a3782ea",
   "metadata": {},
   "outputs": [],
   "source": [
    "#From which department we got most orders/reorders"
   ]
  },
  {
   "cell_type": "code",
   "execution_count": 97,
   "id": "733fa257",
   "metadata": {},
   "outputs": [
    {
     "data": {
      "text/html": [
       "<div>\n",
       "<style scoped>\n",
       "    .dataframe tbody tr th:only-of-type {\n",
       "        vertical-align: middle;\n",
       "    }\n",
       "\n",
       "    .dataframe tbody tr th {\n",
       "        vertical-align: top;\n",
       "    }\n",
       "\n",
       "    .dataframe thead th {\n",
       "        text-align: right;\n",
       "    }\n",
       "</style>\n",
       "<table border=\"1\" class=\"dataframe\">\n",
       "  <thead>\n",
       "    <tr style=\"text-align: right;\">\n",
       "      <th></th>\n",
       "      <th>department_name</th>\n",
       "      <th>no_of_products_ordered</th>\n",
       "    </tr>\n",
       "  </thead>\n",
       "  <tbody>\n",
       "    <tr>\n",
       "      <th>0</th>\n",
       "      <td>produce</td>\n",
       "      <td>9888378</td>\n",
       "    </tr>\n",
       "    <tr>\n",
       "      <th>1</th>\n",
       "      <td>dairy eggs</td>\n",
       "      <td>5631067</td>\n",
       "    </tr>\n",
       "    <tr>\n",
       "      <th>2</th>\n",
       "      <td>snacks</td>\n",
       "      <td>3006412</td>\n",
       "    </tr>\n",
       "    <tr>\n",
       "      <th>3</th>\n",
       "      <td>beverages</td>\n",
       "      <td>2804175</td>\n",
       "    </tr>\n",
       "    <tr>\n",
       "      <th>4</th>\n",
       "      <td>frozen</td>\n",
       "      <td>2336858</td>\n",
       "    </tr>\n",
       "    <tr>\n",
       "      <th>5</th>\n",
       "      <td>pantry</td>\n",
       "      <td>1956819</td>\n",
       "    </tr>\n",
       "    <tr>\n",
       "      <th>6</th>\n",
       "      <td>bakery</td>\n",
       "      <td>1225181</td>\n",
       "    </tr>\n",
       "    <tr>\n",
       "      <th>7</th>\n",
       "      <td>canned goods</td>\n",
       "      <td>1114857</td>\n",
       "    </tr>\n",
       "    <tr>\n",
       "      <th>8</th>\n",
       "      <td>deli</td>\n",
       "      <td>1095540</td>\n",
       "    </tr>\n",
       "    <tr>\n",
       "      <th>9</th>\n",
       "      <td>dry goods pasta</td>\n",
       "      <td>905340</td>\n",
       "    </tr>\n",
       "    <tr>\n",
       "      <th>10</th>\n",
       "      <td>household</td>\n",
       "      <td>774652</td>\n",
       "    </tr>\n",
       "    <tr>\n",
       "      <th>11</th>\n",
       "      <td>meat seafood</td>\n",
       "      <td>739238</td>\n",
       "    </tr>\n",
       "    <tr>\n",
       "      <th>12</th>\n",
       "      <td>breakfast</td>\n",
       "      <td>739069</td>\n",
       "    </tr>\n",
       "    <tr>\n",
       "      <th>13</th>\n",
       "      <td>personal care</td>\n",
       "      <td>468693</td>\n",
       "    </tr>\n",
       "    <tr>\n",
       "      <th>14</th>\n",
       "      <td>babies</td>\n",
       "      <td>438743</td>\n",
       "    </tr>\n",
       "    <tr>\n",
       "      <th>15</th>\n",
       "      <td>international</td>\n",
       "      <td>281155</td>\n",
       "    </tr>\n",
       "    <tr>\n",
       "      <th>16</th>\n",
       "      <td>alcohol</td>\n",
       "      <td>159294</td>\n",
       "    </tr>\n",
       "    <tr>\n",
       "      <th>17</th>\n",
       "      <td>pets</td>\n",
       "      <td>102221</td>\n",
       "    </tr>\n",
       "    <tr>\n",
       "      <th>18</th>\n",
       "      <td>missing</td>\n",
       "      <td>77396</td>\n",
       "    </tr>\n",
       "    <tr>\n",
       "      <th>19</th>\n",
       "      <td>other</td>\n",
       "      <td>38086</td>\n",
       "    </tr>\n",
       "  </tbody>\n",
       "</table>\n",
       "</div>"
      ],
      "text/plain": [
       "    department_name  no_of_products_ordered\n",
       "0           produce                 9888378\n",
       "1        dairy eggs                 5631067\n",
       "2            snacks                 3006412\n",
       "3         beverages                 2804175\n",
       "4            frozen                 2336858\n",
       "5            pantry                 1956819\n",
       "6            bakery                 1225181\n",
       "7      canned goods                 1114857\n",
       "8              deli                 1095540\n",
       "9   dry goods pasta                  905340\n",
       "10        household                  774652\n",
       "11     meat seafood                  739238\n",
       "12        breakfast                  739069\n",
       "13    personal care                  468693\n",
       "14           babies                  438743\n",
       "15    international                  281155\n",
       "16          alcohol                  159294\n",
       "17             pets                  102221\n",
       "18          missing                   77396\n",
       "19            other                   38086"
      ]
     },
     "execution_count": 97,
     "metadata": {},
     "output_type": "execute_result"
    }
   ],
   "source": [
    "ordered_departments=prior_train_orders['department'].value_counts().reset_index().head(20)\n",
    "ordered_departments.columns=['department_name','no_of_products_ordered']\n",
    "ordered_departments"
   ]
  },
  {
   "cell_type": "code",
   "execution_count": 99,
   "id": "ece6c111",
   "metadata": {},
   "outputs": [
    {
     "data": {
      "text/plain": [
       "(array([ 0,  1,  2,  3,  4,  5,  6,  7,  8,  9, 10, 11, 12, 13, 14, 15, 16,\n",
       "        17, 18, 19]),\n",
       " [Text(0, 0, 'produce'),\n",
       "  Text(1, 0, 'dairy eggs'),\n",
       "  Text(2, 0, 'snacks'),\n",
       "  Text(3, 0, 'beverages'),\n",
       "  Text(4, 0, 'frozen'),\n",
       "  Text(5, 0, 'pantry'),\n",
       "  Text(6, 0, 'bakery'),\n",
       "  Text(7, 0, 'canned goods'),\n",
       "  Text(8, 0, 'deli'),\n",
       "  Text(9, 0, 'dry goods pasta'),\n",
       "  Text(10, 0, 'household'),\n",
       "  Text(11, 0, 'meat seafood'),\n",
       "  Text(12, 0, 'breakfast'),\n",
       "  Text(13, 0, 'personal care'),\n",
       "  Text(14, 0, 'babies'),\n",
       "  Text(15, 0, 'international'),\n",
       "  Text(16, 0, 'alcohol'),\n",
       "  Text(17, 0, 'pets'),\n",
       "  Text(18, 0, 'missing'),\n",
       "  Text(19, 0, 'other')])"
      ]
     },
     "execution_count": 99,
     "metadata": {},
     "output_type": "execute_result"
    },
    {
     "data": {
      "image/png": "[encoded data removed]",
      "text/plain": [
       "<Figure size 1440x720 with 1 Axes>"
      ]
     },
     "metadata": {},
     "output_type": "display_data"
    }
   ],
   "source": [
    "plt.figure(figsize=(20,10))\n",
    "sns.barplot(x='department_name',y='no_of_products_ordered',data=ordered_departments)\n",
    "plt.xticks(rotation='vertical')"
   ]
  },
  {
   "cell_type": "markdown",
   "id": "179960c4",
   "metadata": {},
   "source": [
    "Its clear from the graph above that most orders were placed from depatments- produce and dairy eggs. "
   ]
  },
  {
   "cell_type": "code",
   "execution_count": 131,
   "id": "5b4a6f5f",
   "metadata": {},
   "outputs": [
    {
     "data": {
      "text/html": [
       "<div>\n",
       "<style scoped>\n",
       "    .dataframe tbody tr th:only-of-type {\n",
       "        vertical-align: middle;\n",
       "    }\n",
       "\n",
       "    .dataframe tbody tr th {\n",
       "        vertical-align: top;\n",
       "    }\n",
       "\n",
       "    .dataframe thead th {\n",
       "        text-align: right;\n",
       "    }\n",
       "</style>\n",
       "<table border=\"1\" class=\"dataframe\">\n",
       "  <thead>\n",
       "    <tr style=\"text-align: right;\">\n",
       "      <th></th>\n",
       "      <th>department_name</th>\n",
       "      <th>no_of_products_reordered</th>\n",
       "      <th>reorder_rate</th>\n",
       "    </tr>\n",
       "  </thead>\n",
       "  <tbody>\n",
       "    <tr>\n",
       "      <th>1</th>\n",
       "      <td>dairy eggs</td>\n",
       "      <td>3773723</td>\n",
       "      <td>0.670161</td>\n",
       "    </tr>\n",
       "    <tr>\n",
       "      <th>0</th>\n",
       "      <td>produce</td>\n",
       "      <td>6432596</td>\n",
       "      <td>0.650521</td>\n",
       "    </tr>\n",
       "    <tr>\n",
       "      <th>3</th>\n",
       "      <td>snacks</td>\n",
       "      <td>1727075</td>\n",
       "      <td>0.615894</td>\n",
       "    </tr>\n",
       "    <tr>\n",
       "      <th>2</th>\n",
       "      <td>beverages</td>\n",
       "      <td>1832952</td>\n",
       "      <td>0.609681</td>\n",
       "    </tr>\n",
       "    <tr>\n",
       "      <th>17</th>\n",
       "      <td>pets</td>\n",
       "      <td>61594</td>\n",
       "      <td>0.602557</td>\n",
       "    </tr>\n",
       "    <tr>\n",
       "      <th>7</th>\n",
       "      <td>deli</td>\n",
       "      <td>666231</td>\n",
       "      <td>0.597593</td>\n",
       "    </tr>\n",
       "    <tr>\n",
       "      <th>16</th>\n",
       "      <td>alcohol</td>\n",
       "      <td>90992</td>\n",
       "      <td>0.571221</td>\n",
       "    </tr>\n",
       "    <tr>\n",
       "      <th>11</th>\n",
       "      <td>breakfast</td>\n",
       "      <td>414877</td>\n",
       "      <td>0.561223</td>\n",
       "    </tr>\n",
       "    <tr>\n",
       "      <th>6</th>\n",
       "      <td>pantry</td>\n",
       "      <td>679799</td>\n",
       "      <td>0.554856</td>\n",
       "    </tr>\n",
       "    <tr>\n",
       "      <th>19</th>\n",
       "      <td>bulk</td>\n",
       "      <td>20736</td>\n",
       "      <td>0.544452</td>\n",
       "    </tr>\n",
       "    <tr>\n",
       "      <th>4</th>\n",
       "      <td>frozen</td>\n",
       "      <td>1268058</td>\n",
       "      <td>0.542634</td>\n",
       "    </tr>\n",
       "    <tr>\n",
       "      <th>13</th>\n",
       "      <td>babies</td>\n",
       "      <td>253453</td>\n",
       "      <td>0.540765</td>\n",
       "    </tr>\n",
       "    <tr>\n",
       "      <th>10</th>\n",
       "      <td>dry goods pasta</td>\n",
       "      <td>418466</td>\n",
       "      <td>0.540199</td>\n",
       "    </tr>\n",
       "    <tr>\n",
       "      <th>8</th>\n",
       "      <td>canned goods</td>\n",
       "      <td>511317</td>\n",
       "      <td>0.466726</td>\n",
       "    </tr>\n",
       "    <tr>\n",
       "      <th>9</th>\n",
       "      <td>meat seafood</td>\n",
       "      <td>420349</td>\n",
       "      <td>0.464300</td>\n",
       "    </tr>\n",
       "    <tr>\n",
       "      <th>12</th>\n",
       "      <td>household</td>\n",
       "      <td>312447</td>\n",
       "      <td>0.422758</td>\n",
       "    </tr>\n",
       "    <tr>\n",
       "      <th>18</th>\n",
       "      <td>missing</td>\n",
       "      <td>30519</td>\n",
       "      <td>0.394323</td>\n",
       "    </tr>\n",
       "    <tr>\n",
       "      <th>5</th>\n",
       "      <td>bakery</td>\n",
       "      <td>769880</td>\n",
       "      <td>0.393434</td>\n",
       "    </tr>\n",
       "    <tr>\n",
       "      <th>15</th>\n",
       "      <td>international</td>\n",
       "      <td>103938</td>\n",
       "      <td>0.369682</td>\n",
       "    </tr>\n",
       "    <tr>\n",
       "      <th>14</th>\n",
       "      <td>personal care</td>\n",
       "      <td>150855</td>\n",
       "      <td>0.343835</td>\n",
       "    </tr>\n",
       "  </tbody>\n",
       "</table>\n",
       "</div>"
      ],
      "text/plain": [
       "    department_name  no_of_products_reordered  reorder_rate\n",
       "1        dairy eggs                   3773723      0.670161\n",
       "0           produce                   6432596      0.650521\n",
       "3            snacks                   1727075      0.615894\n",
       "2         beverages                   1832952      0.609681\n",
       "17             pets                     61594      0.602557\n",
       "7              deli                    666231      0.597593\n",
       "16          alcohol                     90992      0.571221\n",
       "11        breakfast                    414877      0.561223\n",
       "6            pantry                    679799      0.554856\n",
       "19             bulk                     20736      0.544452\n",
       "4            frozen                   1268058      0.542634\n",
       "13           babies                    253453      0.540765\n",
       "10  dry goods pasta                    418466      0.540199\n",
       "8      canned goods                    511317      0.466726\n",
       "9      meat seafood                    420349      0.464300\n",
       "12        household                    312447      0.422758\n",
       "18          missing                     30519      0.394323\n",
       "5            bakery                    769880      0.393434\n",
       "15    international                    103938      0.369682\n",
       "14    personal care                    150855      0.343835"
      ]
     },
     "execution_count": 131,
     "metadata": {},
     "output_type": "execute_result"
    }
   ],
   "source": [
    "reordered_departments=prior_train_orders.groupby(['department'])['reordered'].aggregate('sum').sort_values(ascending=False).reset_index().head(20)\n",
    "reordered_departments.columns=['department_name','no_of_products_reordered']\n",
    "\n",
    "reordered_departments['reorder_rate']= reordered_departments['no_of_products_reordered']/ordered_departments['no_of_products_ordered']\n",
    "\n",
    "reordered_departments.sort_values(by=['reorder_rate'], ascending=False, inplace=True)\n",
    "reordered_departments"
   ]
  },
  {
   "cell_type": "code",
   "execution_count": 132,
   "id": "f994eaea",
   "metadata": {},
   "outputs": [
    {
     "data": {
      "text/plain": [
       "(array([ 0,  1,  2,  3,  4,  5,  6,  7,  8,  9, 10, 11, 12, 13, 14, 15, 16,\n",
       "        17, 18, 19]),\n",
       " [Text(0, 0, 'dairy eggs'),\n",
       "  Text(1, 0, 'produce'),\n",
       "  Text(2, 0, 'snacks'),\n",
       "  Text(3, 0, 'beverages'),\n",
       "  Text(4, 0, 'pets'),\n",
       "  Text(5, 0, 'deli'),\n",
       "  Text(6, 0, 'alcohol'),\n",
       "  Text(7, 0, 'breakfast'),\n",
       "  Text(8, 0, 'pantry'),\n",
       "  Text(9, 0, 'bulk'),\n",
       "  Text(10, 0, 'frozen'),\n",
       "  Text(11, 0, 'babies'),\n",
       "  Text(12, 0, 'dry goods pasta'),\n",
       "  Text(13, 0, 'canned goods'),\n",
       "  Text(14, 0, 'meat seafood'),\n",
       "  Text(15, 0, 'household'),\n",
       "  Text(16, 0, 'missing'),\n",
       "  Text(17, 0, 'bakery'),\n",
       "  Text(18, 0, 'international'),\n",
       "  Text(19, 0, 'personal care')])"
      ]
     },
     "execution_count": 132,
     "metadata": {},
     "output_type": "execute_result"
    },
    {
     "data": {
      "image/png": "[encoded data removed]",
      "text/plain": [
       "<Figure size 1440x720 with 1 Axes>"
      ]
     },
     "metadata": {},
     "output_type": "display_data"
    }
   ],
   "source": [
    "plt.figure(figsize=(20,10))\n",
    "sns.barplot(x='department_name',y='reorder_rate',data=reordered_departments, alpha=0.7)\n",
    "plt.xticks(rotation='vertical')"
   ]
  },
  {
   "cell_type": "code",
   "execution_count": null,
   "id": "b50eb6aa",
   "metadata": {},
   "outputs": [],
   "source": []
  },
  {
   "cell_type": "code",
   "execution_count": null,
   "id": "8969bd83",
   "metadata": {},
   "outputs": [],
   "source": []
  },
  {
   "cell_type": "code",
   "execution_count": null,
   "id": "92b1ab67",
   "metadata": {},
   "outputs": [],
   "source": [
    "#cartsize of different orders"
   ]
  },
  {
   "cell_type": "code",
   "execution_count": 101,
   "id": "012fa5cc",
   "metadata": {},
   "outputs": [
    {
     "data": {
      "text/html": [
       "<div>\n",
       "<style scoped>\n",
       "    .dataframe tbody tr th:only-of-type {\n",
       "        vertical-align: middle;\n",
       "    }\n",
       "\n",
       "    .dataframe tbody tr th {\n",
       "        vertical-align: top;\n",
       "    }\n",
       "\n",
       "    .dataframe thead th {\n",
       "        text-align: right;\n",
       "    }\n",
       "</style>\n",
       "<table border=\"1\" class=\"dataframe\">\n",
       "  <thead>\n",
       "    <tr style=\"text-align: right;\">\n",
       "      <th></th>\n",
       "      <th>order_id</th>\n",
       "      <th>no_of_products_in_order</th>\n",
       "    </tr>\n",
       "  </thead>\n",
       "  <tbody>\n",
       "    <tr>\n",
       "      <th>0</th>\n",
       "      <td>1564244</td>\n",
       "      <td>145</td>\n",
       "    </tr>\n",
       "    <tr>\n",
       "      <th>1</th>\n",
       "      <td>790903</td>\n",
       "      <td>137</td>\n",
       "    </tr>\n",
       "    <tr>\n",
       "      <th>2</th>\n",
       "      <td>61355</td>\n",
       "      <td>127</td>\n",
       "    </tr>\n",
       "    <tr>\n",
       "      <th>3</th>\n",
       "      <td>2970392</td>\n",
       "      <td>121</td>\n",
       "    </tr>\n",
       "    <tr>\n",
       "      <th>4</th>\n",
       "      <td>2069920</td>\n",
       "      <td>116</td>\n",
       "    </tr>\n",
       "    <tr>\n",
       "      <th>...</th>\n",
       "      <td>...</td>\n",
       "      <td>...</td>\n",
       "    </tr>\n",
       "    <tr>\n",
       "      <th>3346078</th>\n",
       "      <td>1187348</td>\n",
       "      <td>1</td>\n",
       "    </tr>\n",
       "    <tr>\n",
       "      <th>3346079</th>\n",
       "      <td>2898830</td>\n",
       "      <td>1</td>\n",
       "    </tr>\n",
       "    <tr>\n",
       "      <th>3346080</th>\n",
       "      <td>1919566</td>\n",
       "      <td>1</td>\n",
       "    </tr>\n",
       "    <tr>\n",
       "      <th>3346081</th>\n",
       "      <td>3203556</td>\n",
       "      <td>1</td>\n",
       "    </tr>\n",
       "    <tr>\n",
       "      <th>3346082</th>\n",
       "      <td>2609109</td>\n",
       "      <td>1</td>\n",
       "    </tr>\n",
       "  </tbody>\n",
       "</table>\n",
       "<p>3346083 rows × 2 columns</p>\n",
       "</div>"
      ],
      "text/plain": [
       "         order_id  no_of_products_in_order\n",
       "0         1564244                      145\n",
       "1          790903                      137\n",
       "2           61355                      127\n",
       "3         2970392                      121\n",
       "4         2069920                      116\n",
       "...           ...                      ...\n",
       "3346078   1187348                        1\n",
       "3346079   2898830                        1\n",
       "3346080   1919566                        1\n",
       "3346081   3203556                        1\n",
       "3346082   2609109                        1\n",
       "\n",
       "[3346083 rows x 2 columns]"
      ]
     },
     "execution_count": 101,
     "metadata": {},
     "output_type": "execute_result"
    }
   ],
   "source": [
    "cartsize=prior_train_orders['order_id'].value_counts().reset_index()\n",
    "cartsize.columns=['order_id','no_of_products_in_order']\n",
    "cartsize"
   ]
  },
  {
   "cell_type": "code",
   "execution_count": 109,
   "id": "ebac34b3",
   "metadata": {},
   "outputs": [
    {
     "data": {
      "text/plain": [
       "(array([-20.,   0.,  20.,  40.,  60.,  80., 100., 120., 140., 160.]),\n",
       " [Text(0, 0, ''),\n",
       "  Text(0, 0, ''),\n",
       "  Text(0, 0, ''),\n",
       "  Text(0, 0, ''),\n",
       "  Text(0, 0, ''),\n",
       "  Text(0, 0, ''),\n",
       "  Text(0, 0, ''),\n",
       "  Text(0, 0, ''),\n",
       "  Text(0, 0, ''),\n",
       "  Text(0, 0, '')])"
      ]
     },
     "execution_count": 109,
     "metadata": {},
     "output_type": "execute_result"
    },
    {
     "data": {
      "image/png": "[encoded data removed]",
      "text/plain": [
       "<Figure size 1440x720 with 1 Axes>"
      ]
     },
     "metadata": {},
     "output_type": "display_data"
    }
   ],
   "source": [
    "plt.figure(figsize=(20,10))\n",
    "sns.histplot(x='no_of_products_in_order',data=cartsize,bins=70)\n",
    "plt.xticks(rotation='vertical')"
   ]
  },
  {
   "cell_type": "markdown",
   "id": "d96e1ac4",
   "metadata": {},
   "source": [
    "**Cart size has a right skewed distribution. and there are very few orders with cart size more than 40.maximum cart size is 145.**"
   ]
  },
  {
   "cell_type": "code",
   "execution_count": null,
   "id": "b7348303",
   "metadata": {},
   "outputs": [],
   "source": [
    "#how many products were ordered or reordered on a particular day of week"
   ]
  },
  {
   "cell_type": "code",
   "execution_count": null,
   "id": "50d7528c",
   "metadata": {},
   "outputs": [],
   "source": []
  },
  {
   "cell_type": "code",
   "execution_count": null,
   "id": "35662608",
   "metadata": {},
   "outputs": [],
   "source": [
    "#How many products were ordered and reordered on a particular hour of day"
   ]
  },
  {
   "cell_type": "code",
   "execution_count": null,
   "id": "6e56cc28",
   "metadata": {},
   "outputs": [],
   "source": []
  },
  {
   "cell_type": "code",
   "execution_count": null,
   "id": "ec5ebc55",
   "metadata": {},
   "outputs": [],
   "source": [
    "#which products are frequently brought by weekly buyers and monthly buyers ?"
   ]
  },
  {
   "cell_type": "code",
   "execution_count": null,
   "id": "98ddba91",
   "metadata": {},
   "outputs": [],
   "source": []
  },
  {
   "cell_type": "code",
   "execution_count": null,
   "id": "e16bac14",
   "metadata": {},
   "outputs": [],
   "source": [
    "#Which products were never ordered / reordered?"
   ]
  },
  {
   "cell_type": "code",
   "execution_count": null,
   "id": "779ada65",
   "metadata": {},
   "outputs": [],
   "source": []
  }
 ],
 "metadata": {
  "kernelspec": {
   "display_name": "Python 3",
   "language": "python",
   "name": "python3"
  },
  "language_info": {
   "codemirror_mode": {
    "name": "ipython",
    "version": 3
   },
   "file_extension": ".py",
   "mimetype": "text/x-python",
   "name": "python",
   "nbconvert_exporter": "python",
   "pygments_lexer": "ipython3",
   "version": "3.8.8"
  }
 },
 "nbformat": 4,
 "nbformat_minor": 5
}
